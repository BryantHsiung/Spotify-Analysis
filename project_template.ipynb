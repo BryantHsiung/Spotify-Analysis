{
 "cells": [
  {
   "cell_type": "markdown",
   "metadata": {},
   "source": [
    "# STAT207 Final Project - What do People like about Music: An Statistical Analysis on Spotify Top 200 Charts\n",
    "\n",
    "Author: Bryant Hsiung (whsiung3)"
   ]
  },
  {
   "cell_type": "markdown",
   "metadata": {},
   "source": [
    "## 1. Introduction"
   ]
  },
  {
   "cell_type": "markdown",
   "metadata": {},
   "source": [
    "### 1.1 Motivation \n",
    "\n",
    "In today's world, everyone listens to music. And according to Drive Research, Spotify is the No.1 music streaming service, with over 210 million paid subscribers and 515 million monthly active users around the world. Therefore, its data has more credibility compared to other music platforms such as Apple Music and YouTube Music. Moreover, by studying this dataset, we can know what were some popular songs in 2020 & 2021 globally. For most people, these songs should be familiar and therefore it is also interesting to learn what made them so famous during the time. \n",
    "\n",
    "\n",
    "Source: https://www.driveresearch.com/market-research-company-blog/music-streaming-statistics/"
   ]
  },
  {
   "cell_type": "markdown",
   "metadata": {},
   "source": [
    "### 1.2 Research Questions\n",
    "1. What makes a song popular? It would be interested to know the music trends in 2020 and 2021. People could use the answers to make music that is more likely to gain popularity in the future. Is there a linear relationship between popularity and other features of a song?\n",
    "---\n",
    "2. What genres are the most popular? For that specific genre, is there a linear relationship between the log-odds of being that genre and other factors such as popularity, danceability, energy and loudness.\n",
    "---\n",
    "3. What is the relationship between being genre and popularity in the dataset? Does being in dance-pop genre make a song more likely to be popular?"
   ]
  },
  {
   "cell_type": "code",
   "execution_count": 62,
   "metadata": {},
   "outputs": [],
   "source": [
    "# Imports here\n",
    "import pandas as pd\n",
    "from sklearn.linear_model import LinearRegression\n",
    "import statsmodels.formula.api as smf\n",
    "import matplotlib.pyplot as plt\n",
    "from sklearn.model_selection import train_test_split\n",
    "from sklearn.metrics import roc_curve\n",
    "from sklearn.metrics import roc_auc_score\n",
    "import numpy as np\n",
    "from sklearn.metrics import confusion_matrix\n",
    "import seaborn as sns; sns.set()"
   ]
  },
  {
   "cell_type": "markdown",
   "metadata": {},
   "source": [
    "### 1.3 Dataset \n",
    "The dataset has 500 rows and 41 columns."
   ]
  },
  {
   "cell_type": "code",
   "execution_count": 2,
   "metadata": {},
   "outputs": [
    {
     "data": {
      "text/html": [
       "<div>\n",
       "<style scoped>\n",
       "    .dataframe tbody tr th:only-of-type {\n",
       "        vertical-align: middle;\n",
       "    }\n",
       "\n",
       "    .dataframe tbody tr th {\n",
       "        vertical-align: top;\n",
       "    }\n",
       "\n",
       "    .dataframe thead th {\n",
       "        text-align: right;\n",
       "    }\n",
       "</style>\n",
       "<table border=\"1\" class=\"dataframe\">\n",
       "  <thead>\n",
       "    <tr style=\"text-align: right;\">\n",
       "      <th></th>\n",
       "      <th>Highest_Charting_Position</th>\n",
       "      <th>Number_of_Times_Charted</th>\n",
       "      <th>Week_of_Highest_Charting</th>\n",
       "      <th>Week_of_Highest_Charting_year</th>\n",
       "      <th>Week_of_Highest_Charting_month</th>\n",
       "      <th>Week_of_Highest_Charting_day</th>\n",
       "      <th>Song_Name</th>\n",
       "      <th>Streams</th>\n",
       "      <th>Artist</th>\n",
       "      <th>Artist_Followers</th>\n",
       "      <th>...</th>\n",
       "      <th>Genre_2</th>\n",
       "      <th>Genre_3</th>\n",
       "      <th>Genre_4</th>\n",
       "      <th>Genre_5</th>\n",
       "      <th>Genre_6</th>\n",
       "      <th>Genre_7</th>\n",
       "      <th>Genre_8</th>\n",
       "      <th>Genre_9</th>\n",
       "      <th>Genre_10</th>\n",
       "      <th>Genre_11</th>\n",
       "    </tr>\n",
       "  </thead>\n",
       "  <tbody>\n",
       "    <tr>\n",
       "      <th>0</th>\n",
       "      <td>8</td>\n",
       "      <td>24</td>\n",
       "      <td>4/2/2021</td>\n",
       "      <td>2021</td>\n",
       "      <td>4</td>\n",
       "      <td>2</td>\n",
       "      <td>Heartbreak Anniversary</td>\n",
       "      <td>8832945</td>\n",
       "      <td>Giveon</td>\n",
       "      <td>1398563.0</td>\n",
       "      <td>...</td>\n",
       "      <td>r&amp;b</td>\n",
       "      <td>NaN</td>\n",
       "      <td>NaN</td>\n",
       "      <td>NaN</td>\n",
       "      <td>NaN</td>\n",
       "      <td>NaN</td>\n",
       "      <td>NaN</td>\n",
       "      <td>NaN</td>\n",
       "      <td>NaN</td>\n",
       "      <td>NaN</td>\n",
       "    </tr>\n",
       "    <tr>\n",
       "      <th>1</th>\n",
       "      <td>92</td>\n",
       "      <td>2</td>\n",
       "      <td>5/15/2020</td>\n",
       "      <td>2020</td>\n",
       "      <td>5</td>\n",
       "      <td>15</td>\n",
       "      <td>X (with KAROL G)</td>\n",
       "      <td>5018592</td>\n",
       "      <td>Jonas Brothers</td>\n",
       "      <td>5436999.0</td>\n",
       "      <td>...</td>\n",
       "      <td>dance pop</td>\n",
       "      <td>pop</td>\n",
       "      <td>post-teen pop</td>\n",
       "      <td>NaN</td>\n",
       "      <td>NaN</td>\n",
       "      <td>NaN</td>\n",
       "      <td>NaN</td>\n",
       "      <td>NaN</td>\n",
       "      <td>NaN</td>\n",
       "      <td>NaN</td>\n",
       "    </tr>\n",
       "    <tr>\n",
       "      <th>2</th>\n",
       "      <td>181</td>\n",
       "      <td>1</td>\n",
       "      <td>12/18/2020</td>\n",
       "      <td>2020</td>\n",
       "      <td>12</td>\n",
       "      <td>18</td>\n",
       "      <td>Christmas Tree Farm</td>\n",
       "      <td>6657404</td>\n",
       "      <td>Taylor Swift</td>\n",
       "      <td>42227614.0</td>\n",
       "      <td>...</td>\n",
       "      <td>post-teen pop</td>\n",
       "      <td>NaN</td>\n",
       "      <td>NaN</td>\n",
       "      <td>NaN</td>\n",
       "      <td>NaN</td>\n",
       "      <td>NaN</td>\n",
       "      <td>NaN</td>\n",
       "      <td>NaN</td>\n",
       "      <td>NaN</td>\n",
       "      <td>NaN</td>\n",
       "    </tr>\n",
       "    <tr>\n",
       "      <th>3</th>\n",
       "      <td>12</td>\n",
       "      <td>29</td>\n",
       "      <td>11/27/2020</td>\n",
       "      <td>2020</td>\n",
       "      <td>11</td>\n",
       "      <td>27</td>\n",
       "      <td>TE MUDASTE</td>\n",
       "      <td>5242347</td>\n",
       "      <td>Bad Bunny</td>\n",
       "      <td>36142273.0</td>\n",
       "      <td>...</td>\n",
       "      <td>reggaeton</td>\n",
       "      <td>trap latino</td>\n",
       "      <td>NaN</td>\n",
       "      <td>NaN</td>\n",
       "      <td>NaN</td>\n",
       "      <td>NaN</td>\n",
       "      <td>NaN</td>\n",
       "      <td>NaN</td>\n",
       "      <td>NaN</td>\n",
       "      <td>NaN</td>\n",
       "    </tr>\n",
       "    <tr>\n",
       "      <th>4</th>\n",
       "      <td>32</td>\n",
       "      <td>10</td>\n",
       "      <td>1/3/2020</td>\n",
       "      <td>2020</td>\n",
       "      <td>1</td>\n",
       "      <td>3</td>\n",
       "      <td>Futsal Shuffle 2020</td>\n",
       "      <td>5386512</td>\n",
       "      <td>Lil Uzi Vert</td>\n",
       "      <td>11821805.0</td>\n",
       "      <td>...</td>\n",
       "      <td>philly rap</td>\n",
       "      <td>rap</td>\n",
       "      <td>trap</td>\n",
       "      <td>NaN</td>\n",
       "      <td>NaN</td>\n",
       "      <td>NaN</td>\n",
       "      <td>NaN</td>\n",
       "      <td>NaN</td>\n",
       "      <td>NaN</td>\n",
       "      <td>NaN</td>\n",
       "    </tr>\n",
       "    <tr>\n",
       "      <th>5</th>\n",
       "      <td>109</td>\n",
       "      <td>1</td>\n",
       "      <td>2/21/2020</td>\n",
       "      <td>2020</td>\n",
       "      <td>2</td>\n",
       "      <td>21</td>\n",
       "      <td>Interlude : Shadow</td>\n",
       "      <td>6655856</td>\n",
       "      <td>BTS</td>\n",
       "      <td>37151476.0</td>\n",
       "      <td>...</td>\n",
       "      <td>k-pop boy group</td>\n",
       "      <td>NaN</td>\n",
       "      <td>NaN</td>\n",
       "      <td>NaN</td>\n",
       "      <td>NaN</td>\n",
       "      <td>NaN</td>\n",
       "      <td>NaN</td>\n",
       "      <td>NaN</td>\n",
       "      <td>NaN</td>\n",
       "      <td>NaN</td>\n",
       "    </tr>\n",
       "    <tr>\n",
       "      <th>6</th>\n",
       "      <td>135</td>\n",
       "      <td>15</td>\n",
       "      <td>8/28/2020</td>\n",
       "      <td>2020</td>\n",
       "      <td>8</td>\n",
       "      <td>28</td>\n",
       "      <td>El Mismo Aire - con Pablo Alborán</td>\n",
       "      <td>4705484</td>\n",
       "      <td>Camilo</td>\n",
       "      <td>10580764.0</td>\n",
       "      <td>...</td>\n",
       "      <td>reggaeton colombiano</td>\n",
       "      <td>NaN</td>\n",
       "      <td>NaN</td>\n",
       "      <td>NaN</td>\n",
       "      <td>NaN</td>\n",
       "      <td>NaN</td>\n",
       "      <td>NaN</td>\n",
       "      <td>NaN</td>\n",
       "      <td>NaN</td>\n",
       "      <td>NaN</td>\n",
       "    </tr>\n",
       "    <tr>\n",
       "      <th>7</th>\n",
       "      <td>47</td>\n",
       "      <td>1</td>\n",
       "      <td>6/25/2021</td>\n",
       "      <td>2021</td>\n",
       "      <td>6</td>\n",
       "      <td>25</td>\n",
       "      <td>LEMONHEAD (feat. 42 Dugg)</td>\n",
       "      <td>11380679</td>\n",
       "      <td>Tyler, The Creator</td>\n",
       "      <td>6777818.0</td>\n",
       "      <td>...</td>\n",
       "      <td>rap</td>\n",
       "      <td>NaN</td>\n",
       "      <td>NaN</td>\n",
       "      <td>NaN</td>\n",
       "      <td>NaN</td>\n",
       "      <td>NaN</td>\n",
       "      <td>NaN</td>\n",
       "      <td>NaN</td>\n",
       "      <td>NaN</td>\n",
       "      <td>NaN</td>\n",
       "    </tr>\n",
       "    <tr>\n",
       "      <th>8</th>\n",
       "      <td>76</td>\n",
       "      <td>17</td>\n",
       "      <td>6/26/2020</td>\n",
       "      <td>2020</td>\n",
       "      <td>6</td>\n",
       "      <td>26</td>\n",
       "      <td>Tak Tiki Tak</td>\n",
       "      <td>4761286</td>\n",
       "      <td>Harry Nach</td>\n",
       "      <td>134339.0</td>\n",
       "      <td>...</td>\n",
       "      <td>trap latino</td>\n",
       "      <td>NaN</td>\n",
       "      <td>NaN</td>\n",
       "      <td>NaN</td>\n",
       "      <td>NaN</td>\n",
       "      <td>NaN</td>\n",
       "      <td>NaN</td>\n",
       "      <td>NaN</td>\n",
       "      <td>NaN</td>\n",
       "      <td>NaN</td>\n",
       "    </tr>\n",
       "    <tr>\n",
       "      <th>9</th>\n",
       "      <td>129</td>\n",
       "      <td>1</td>\n",
       "      <td>1/24/2020</td>\n",
       "      <td>2020</td>\n",
       "      <td>1</td>\n",
       "      <td>24</td>\n",
       "      <td>Donuts</td>\n",
       "      <td>6113037</td>\n",
       "      <td>Gzuz</td>\n",
       "      <td>1140383.0</td>\n",
       "      <td>...</td>\n",
       "      <td>german hip hop</td>\n",
       "      <td>hamburg hip hop</td>\n",
       "      <td>NaN</td>\n",
       "      <td>NaN</td>\n",
       "      <td>NaN</td>\n",
       "      <td>NaN</td>\n",
       "      <td>NaN</td>\n",
       "      <td>NaN</td>\n",
       "      <td>NaN</td>\n",
       "      <td>NaN</td>\n",
       "    </tr>\n",
       "  </tbody>\n",
       "</table>\n",
       "<p>10 rows × 41 columns</p>\n",
       "</div>"
      ],
      "text/plain": [
       "   Highest_Charting_Position  Number_of_Times_Charted  \\\n",
       "0                          8                       24   \n",
       "1                         92                        2   \n",
       "2                        181                        1   \n",
       "3                         12                       29   \n",
       "4                         32                       10   \n",
       "5                        109                        1   \n",
       "6                        135                       15   \n",
       "7                         47                        1   \n",
       "8                         76                       17   \n",
       "9                        129                        1   \n",
       "\n",
       "  Week_of_Highest_Charting  Week_of_Highest_Charting_year  \\\n",
       "0                 4/2/2021                           2021   \n",
       "1                5/15/2020                           2020   \n",
       "2               12/18/2020                           2020   \n",
       "3               11/27/2020                           2020   \n",
       "4                 1/3/2020                           2020   \n",
       "5                2/21/2020                           2020   \n",
       "6                8/28/2020                           2020   \n",
       "7                6/25/2021                           2021   \n",
       "8                6/26/2020                           2020   \n",
       "9                1/24/2020                           2020   \n",
       "\n",
       "   Week_of_Highest_Charting_month  Week_of_Highest_Charting_day  \\\n",
       "0                               4                             2   \n",
       "1                               5                            15   \n",
       "2                              12                            18   \n",
       "3                              11                            27   \n",
       "4                               1                             3   \n",
       "5                               2                            21   \n",
       "6                               8                            28   \n",
       "7                               6                            25   \n",
       "8                               6                            26   \n",
       "9                               1                            24   \n",
       "\n",
       "                           Song_Name   Streams              Artist  \\\n",
       "0             Heartbreak Anniversary   8832945              Giveon   \n",
       "1                   X (with KAROL G)   5018592      Jonas Brothers   \n",
       "2                Christmas Tree Farm   6657404        Taylor Swift   \n",
       "3                         TE MUDASTE   5242347           Bad Bunny   \n",
       "4                Futsal Shuffle 2020   5386512        Lil Uzi Vert   \n",
       "5                 Interlude : Shadow   6655856                 BTS   \n",
       "6  El Mismo Aire - con Pablo Alborán   4705484              Camilo   \n",
       "7          LEMONHEAD (feat. 42 Dugg)  11380679  Tyler, The Creator   \n",
       "8                       Tak Tiki Tak   4761286          Harry Nach   \n",
       "9                             Donuts   6113037                Gzuz   \n",
       "\n",
       "   Artist_Followers  ...                Genre_2           Genre_3  \\\n",
       "0         1398563.0  ...                    r&b               NaN   \n",
       "1         5436999.0  ...              dance pop               pop   \n",
       "2        42227614.0  ...          post-teen pop               NaN   \n",
       "3        36142273.0  ...              reggaeton       trap latino   \n",
       "4        11821805.0  ...             philly rap               rap   \n",
       "5        37151476.0  ...        k-pop boy group               NaN   \n",
       "6        10580764.0  ...   reggaeton colombiano               NaN   \n",
       "7         6777818.0  ...                    rap               NaN   \n",
       "8          134339.0  ...            trap latino               NaN   \n",
       "9         1140383.0  ...         german hip hop   hamburg hip hop   \n",
       "\n",
       "          Genre_4 Genre_5  Genre_6 Genre_7  Genre_8  Genre_9  Genre_10  \\\n",
       "0             NaN     NaN      NaN     NaN      NaN      NaN       NaN   \n",
       "1   post-teen pop     NaN      NaN     NaN      NaN      NaN       NaN   \n",
       "2             NaN     NaN      NaN     NaN      NaN      NaN       NaN   \n",
       "3             NaN     NaN      NaN     NaN      NaN      NaN       NaN   \n",
       "4            trap     NaN      NaN     NaN      NaN      NaN       NaN   \n",
       "5             NaN     NaN      NaN     NaN      NaN      NaN       NaN   \n",
       "6             NaN     NaN      NaN     NaN      NaN      NaN       NaN   \n",
       "7             NaN     NaN      NaN     NaN      NaN      NaN       NaN   \n",
       "8             NaN     NaN      NaN     NaN      NaN      NaN       NaN   \n",
       "9             NaN     NaN      NaN     NaN      NaN      NaN       NaN   \n",
       "\n",
       "   Genre_11  \n",
       "0       NaN  \n",
       "1       NaN  \n",
       "2       NaN  \n",
       "3       NaN  \n",
       "4       NaN  \n",
       "5       NaN  \n",
       "6       NaN  \n",
       "7       NaN  \n",
       "8       NaN  \n",
       "9       NaN  \n",
       "\n",
       "[10 rows x 41 columns]"
      ]
     },
     "execution_count": 2,
     "metadata": {},
     "output_type": "execute_result"
    }
   ],
   "source": [
    "# Display the first 10 observations\n",
    "df = pd.read_csv(\"spotify_top_200_sample.csv\", na_values = [\"missing\"])\n",
    "df.head(10)"
   ]
  },
  {
   "cell_type": "code",
   "execution_count": 3,
   "metadata": {},
   "outputs": [
    {
     "data": {
      "text/plain": [
       "(500, 41)"
      ]
     },
     "execution_count": 3,
     "metadata": {},
     "output_type": "execute_result"
    }
   ],
   "source": [
    "df.shape"
   ]
  },
  {
   "cell_type": "markdown",
   "metadata": {},
   "source": [
    "### 1.4 Critical Thinking\n",
    "Some of the limitations include that this dataset only contains data from 2021 to 2022. Also, since more people listen to English songs (compared to other languages), there might be some biases in favor of English songs. In addition, although Spotiy is perhaps the most used music platform, we don't know for sure it's comprehensive. There aren't any ethical considerations for this data, under the assumption that its acquisition is ethical and legal."
   ]
  },
  {
   "cell_type": "markdown",
   "metadata": {},
   "source": [
    "## 2. Linear Regression and Feature Selection\n",
    "\n",
    "We will start building a model with variables that we think contribute to the popularity of the song. Then we will use a Backwards Elimation Algoirthm to try to reduce the number of variables needed in the model. \n",
    "\n",
    "Response: Popularity\n",
    "\n",
    "Predictors: Artist Followers, Danceability, Acousticeness, Energy, Liveness, Loudness, Speechiness, Tempo and Valence."
   ]
  },
  {
   "cell_type": "code",
   "execution_count": 4,
   "metadata": {},
   "outputs": [
    {
     "data": {
      "text/plain": [
       "(474, 11)"
      ]
     },
     "execution_count": 4,
     "metadata": {},
     "output_type": "execute_result"
    }
   ],
   "source": [
    "# Select columns needed \n",
    "X = df[[\"Genre_1\", \"Popularity\", \"Artist_Followers\", \"Danceability\", \"Acousticness\", \"Energy\", \"Liveness\", \\\n",
    "        \"Loudness\", \"Speechiness\", \"Tempo\", \"Valence\"]]\n",
    "\n",
    "# Drop rows that have NA values\n",
    "X = X.dropna()\n",
    "\n",
    "# Drop missing values\n",
    "X.shape"
   ]
  },
  {
   "cell_type": "code",
   "execution_count": 5,
   "metadata": {},
   "outputs": [
    {
     "name": "stdout",
     "output_type": "stream",
     "text": [
      "Genre_1             0\n",
      "Popularity          0\n",
      "Artist_Followers    0\n",
      "Danceability        0\n",
      "Acousticness        0\n",
      "Energy              0\n",
      "Liveness            0\n",
      "Loudness            0\n",
      "Speechiness         0\n",
      "Tempo               0\n",
      "Valence             0\n",
      "dtype: int64\n"
     ]
    }
   ],
   "source": [
    "# Make sure there's no NaN values\n",
    "print(X.isnull().sum())"
   ]
  },
  {
   "cell_type": "code",
   "execution_count": 6,
   "metadata": {},
   "outputs": [
    {
     "data": {
      "text/plain": [
       "Index(['Genre_1', 'Popularity', 'Artist_Followers', 'Danceability',\n",
       "       'Acousticness', 'Energy', 'Liveness', 'Loudness', 'Speechiness',\n",
       "       'Tempo', 'Valence'],\n",
       "      dtype='object')"
      ]
     },
     "execution_count": 6,
     "metadata": {},
     "output_type": "execute_result"
    }
   ],
   "source": [
    "X.columns"
   ]
  },
  {
   "cell_type": "code",
   "execution_count": 7,
   "metadata": {},
   "outputs": [
    {
     "data": {
      "text/plain": [
       "Genre_1              object\n",
       "Popularity          float64\n",
       "Artist_Followers    float64\n",
       "Danceability        float64\n",
       "Acousticness        float64\n",
       "Energy              float64\n",
       "Liveness            float64\n",
       "Loudness            float64\n",
       "Speechiness         float64\n",
       "Tempo               float64\n",
       "Valence             float64\n",
       "dtype: object"
      ]
     },
     "execution_count": 7,
     "metadata": {},
     "output_type": "execute_result"
    }
   ],
   "source": [
    "# Make sure all variables are in floats\n",
    "X.dtypes"
   ]
  },
  {
   "cell_type": "code",
   "execution_count": 8,
   "metadata": {},
   "outputs": [
    {
     "data": {
      "text/plain": [
       "0.049859157132571386"
      ]
     },
     "execution_count": 8,
     "metadata": {},
     "output_type": "execute_result"
    }
   ],
   "source": [
    "# Full Model\n",
    "model_1 = smf.ols(\"Popularity ~ Artist_Followers + Danceability + Acousticness + Energy + \\\n",
    "                  Liveness + Loudness + Speechiness + Tempo + Valence\", data = df).fit()\n",
    "\n",
    "model_1.rsquared_adj"
   ]
  },
  {
   "cell_type": "code",
   "execution_count": 9,
   "metadata": {},
   "outputs": [
    {
     "data": {
      "text/plain": [
       "0.03573980567507684"
      ]
     },
     "execution_count": 9,
     "metadata": {},
     "output_type": "execute_result"
    }
   ],
   "source": [
    "# Remove Artist_Followers\n",
    "model_2 = smf.ols(\"Popularity ~ Danceability + Acousticness + Energy + \\\n",
    "                  Liveness + Loudness + Speechiness + Tempo + Valence\", data = df).fit()\n",
    "\n",
    "model_2.rsquared_adj"
   ]
  },
  {
   "cell_type": "code",
   "execution_count": 10,
   "metadata": {},
   "outputs": [
    {
     "data": {
      "text/plain": [
       "0.050071092286331886"
      ]
     },
     "execution_count": 10,
     "metadata": {},
     "output_type": "execute_result"
    }
   ],
   "source": [
    "# Remove Danceability \n",
    "model_3 = smf.ols(\"Popularity ~ Artist_Followers + Acousticness + Energy + \\\n",
    "                  Liveness + Loudness + Speechiness + Tempo + Valence\", data = df).fit()\n",
    "\n",
    "model_3.rsquared_adj"
   ]
  },
  {
   "cell_type": "code",
   "execution_count": 11,
   "metadata": {},
   "outputs": [
    {
     "data": {
      "text/plain": [
       "0.049418509826686274"
      ]
     },
     "execution_count": 11,
     "metadata": {},
     "output_type": "execute_result"
    }
   ],
   "source": [
    "# Remove Acousticness\n",
    "model_4 = smf.ols(\"Popularity ~ Artist_Followers + Danceability + Energy + \\\n",
    "                  Liveness + Loudness + Speechiness + Tempo + Valence\", data = df).fit()\n",
    "\n",
    "model_4.rsquared_adj"
   ]
  },
  {
   "cell_type": "code",
   "execution_count": 12,
   "metadata": {},
   "outputs": [
    {
     "data": {
      "text/plain": [
       "0.05052998775011708"
      ]
     },
     "execution_count": 12,
     "metadata": {},
     "output_type": "execute_result"
    }
   ],
   "source": [
    "# Remove Energy\n",
    "model_5 = smf.ols(\"Popularity ~ Artist_Followers + Danceability + Acousticness + \\\n",
    "                  Liveness + Loudness + Speechiness + Tempo + Valence\", data = df).fit()\n",
    "\n",
    "model_5.rsquared_adj"
   ]
  },
  {
   "cell_type": "code",
   "execution_count": 13,
   "metadata": {},
   "outputs": [
    {
     "data": {
      "text/plain": [
       "0.04599277311834926"
      ]
     },
     "execution_count": 13,
     "metadata": {},
     "output_type": "execute_result"
    }
   ],
   "source": [
    "# Remove Liveness\n",
    "model_6 = smf.ols(\"Popularity ~ Artist_Followers + Danceability + Acousticness + Energy + \\\n",
    "                   Loudness + Speechiness + Tempo + Valence\", data = df).fit()\n",
    "\n",
    "model_6.rsquared_adj"
   ]
  },
  {
   "cell_type": "code",
   "execution_count": 14,
   "metadata": {},
   "outputs": [
    {
     "data": {
      "text/plain": [
       "0.046738268146360396"
      ]
     },
     "execution_count": 14,
     "metadata": {},
     "output_type": "execute_result"
    }
   ],
   "source": [
    "# Remove Speechiness\n",
    "model_7 = smf.ols(\"Popularity ~ Artist_Followers + Danceability + Acousticness + Energy + \\\n",
    "                  Liveness + Tempo + Valence\", data = df).fit()\n",
    "\n",
    "model_7.rsquared_adj"
   ]
  },
  {
   "cell_type": "code",
   "execution_count": 15,
   "metadata": {},
   "outputs": [
    {
     "data": {
      "text/plain": [
       "0.04643651791971759"
      ]
     },
     "execution_count": 15,
     "metadata": {},
     "output_type": "execute_result"
    }
   ],
   "source": [
    "# Remove Tempo\n",
    "model_8 = smf.ols(\"Popularity ~ Artist_Followers + Danceability + Acousticness + Energy + \\\n",
    "                  Liveness + Loudness + Speechiness + Valence\", data = df).fit()\n",
    "\n",
    "model_8.rsquared_adj"
   ]
  },
  {
   "cell_type": "code",
   "execution_count": 16,
   "metadata": {},
   "outputs": [
    {
     "data": {
      "text/plain": [
       "0.04969480899001566"
      ]
     },
     "execution_count": 16,
     "metadata": {},
     "output_type": "execute_result"
    }
   ],
   "source": [
    "# Remove Valence\n",
    "model_9 = smf.ols(\"Popularity ~ Artist_Followers + Danceability + Acousticness + Energy + \\\n",
    "                  Liveness + Loudness + Speechiness + Tempo\", data = df).fit()\n",
    "\n",
    "model_9.rsquared_adj"
   ]
  },
  {
   "cell_type": "code",
   "execution_count": 17,
   "metadata": {},
   "outputs": [],
   "source": [
    "# From the second round results above, we will continue the process with model_5\n",
    "# Adjusted R-squared: 0.05052998775011708"
   ]
  },
  {
   "cell_type": "code",
   "execution_count": 18,
   "metadata": {},
   "outputs": [
    {
     "data": {
      "text/plain": [
       "0.03676675940269414"
      ]
     },
     "execution_count": 18,
     "metadata": {},
     "output_type": "execute_result"
    }
   ],
   "source": [
    "# Remove Artist_Followers\n",
    "model_5_1 = smf.ols(\"Popularity ~ Danceability + Acousticness + \\\n",
    "                  Liveness + Loudness + Speechiness + Tempo + Valence\", data = df).fit()\n",
    "\n",
    "model_5_1.rsquared_adj"
   ]
  },
  {
   "cell_type": "code",
   "execution_count": 19,
   "metadata": {},
   "outputs": [
    {
     "data": {
      "text/plain": [
       "0.051315607028473376"
      ]
     },
     "execution_count": 19,
     "metadata": {},
     "output_type": "execute_result"
    }
   ],
   "source": [
    "# Remove Danceability\n",
    "model_5_2 = smf.ols(\"Popularity ~ Artist_Followers + Acousticness + \\\n",
    "                  Liveness + Loudness + Speechiness + Tempo + Valence\", data = df).fit()\n",
    "\n",
    "model_5_2.rsquared_adj"
   ]
  },
  {
   "cell_type": "code",
   "execution_count": 20,
   "metadata": {},
   "outputs": [
    {
     "data": {
      "text/plain": [
       "0.04782223486870252"
      ]
     },
     "execution_count": 20,
     "metadata": {},
     "output_type": "execute_result"
    }
   ],
   "source": [
    "# Remove Acousticness\n",
    "model_5_3 = smf.ols(\"Popularity ~ Artist_Followers + Danceability + \\\n",
    "                  Liveness + Loudness + Speechiness + Tempo + Valence\", data = df).fit()\n",
    "\n",
    "model_5_3.rsquared_adj"
   ]
  },
  {
   "cell_type": "code",
   "execution_count": 21,
   "metadata": {},
   "outputs": [
    {
     "data": {
      "text/plain": [
       "0.04718256831727996"
      ]
     },
     "execution_count": 21,
     "metadata": {},
     "output_type": "execute_result"
    }
   ],
   "source": [
    "# Remove Liveness\n",
    "model_5_4 = smf.ols(\"Popularity ~ Artist_Followers + Danceability + Acousticness + \\\n",
    "                  Loudness + Speechiness + Tempo + Valence\", data = df).fit()\n",
    "\n",
    "model_5_4.rsquared_adj"
   ]
  },
  {
   "cell_type": "code",
   "execution_count": 22,
   "metadata": {},
   "outputs": [
    {
     "data": {
      "text/plain": [
       "0.03896047659877855"
      ]
     },
     "execution_count": 22,
     "metadata": {},
     "output_type": "execute_result"
    }
   ],
   "source": [
    "# Remove Loudness \n",
    "model_5_5 = smf.ols(\"Popularity ~ Artist_Followers + Danceability + Acousticness + \\\n",
    "                  Liveness + Speechiness + Tempo + Valence\", data = df).fit()\n",
    "\n",
    "model_5_5.rsquared_adj"
   ]
  },
  {
   "cell_type": "code",
   "execution_count": 23,
   "metadata": {},
   "outputs": [
    {
     "data": {
      "text/plain": [
       "0.051494421530382084"
      ]
     },
     "execution_count": 23,
     "metadata": {},
     "output_type": "execute_result"
    }
   ],
   "source": [
    "# Remove Speechiness\n",
    "model_5_6 = smf.ols(\"Popularity ~ Artist_Followers + Danceability + Acousticness + \\\n",
    "                  Liveness + Loudness + Tempo + Valence\", data = df).fit()\n",
    "\n",
    "model_5_6.rsquared_adj"
   ]
  },
  {
   "cell_type": "code",
   "execution_count": 24,
   "metadata": {},
   "outputs": [
    {
     "data": {
      "text/plain": [
       "0.04712526632145542"
      ]
     },
     "execution_count": 24,
     "metadata": {},
     "output_type": "execute_result"
    }
   ],
   "source": [
    "# Remove Tempo\n",
    "model_5_7 = smf.ols(\"Popularity ~ Artist_Followers + Danceability + Acousticness + \\\n",
    "                  Liveness + Loudness + Speechiness + Valence\", data = df).fit()\n",
    "\n",
    "model_5_7.rsquared_adj"
   ]
  },
  {
   "cell_type": "code",
   "execution_count": 25,
   "metadata": {},
   "outputs": [
    {
     "data": {
      "text/plain": [
       "0.05110438154185226"
      ]
     },
     "execution_count": 25,
     "metadata": {},
     "output_type": "execute_result"
    }
   ],
   "source": [
    "# Remove Valence \n",
    "model_5_8 = smf.ols(\"Popularity ~ Artist_Followers + Danceability + Acousticness + \\\n",
    "                  Liveness + Loudness + Speechiness + Tempo\", data = df).fit()\n",
    "\n",
    "model_5_8.rsquared_adj"
   ]
  },
  {
   "cell_type": "code",
   "execution_count": 26,
   "metadata": {},
   "outputs": [],
   "source": [
    "# From the second round results above, we will continue the process with model_5_6\n",
    "# Adjusted R-squared: 0.051494421530382084"
   ]
  },
  {
   "cell_type": "code",
   "execution_count": 27,
   "metadata": {},
   "outputs": [
    {
     "data": {
      "text/plain": [
       "0.03682998511109192"
      ]
     },
     "execution_count": 27,
     "metadata": {},
     "output_type": "execute_result"
    }
   ],
   "source": [
    "# Remove Artist_Followers\n",
    "model_5_6_1 = smf.ols(\"Popularity ~ Danceability + Acousticness + \\\n",
    "                  Liveness + Loudness + Tempo + Valence\", data = df).fit()\n",
    "\n",
    "model_5_6_1.rsquared_adj"
   ]
  },
  {
   "cell_type": "code",
   "execution_count": 28,
   "metadata": {},
   "outputs": [
    {
     "data": {
      "text/plain": [
       "0.052666350277003615"
      ]
     },
     "execution_count": 28,
     "metadata": {},
     "output_type": "execute_result"
    }
   ],
   "source": [
    "# Remove Danceability\n",
    "model_5_6_2 = smf.ols(\"Popularity ~ Artist_Followers + Acousticness + \\\n",
    "                  Liveness + Loudness + Tempo + Valence\", data = df).fit()\n",
    "\n",
    "model_5_6_2.rsquared_adj"
   ]
  },
  {
   "cell_type": "code",
   "execution_count": 29,
   "metadata": {},
   "outputs": [
    {
     "data": {
      "text/plain": [
       "0.04925332248256087"
      ]
     },
     "execution_count": 29,
     "metadata": {},
     "output_type": "execute_result"
    }
   ],
   "source": [
    "# Remove Acousticness\n",
    "model_5_6_3 = smf.ols(\"Popularity ~ Artist_Followers + Danceability + \\\n",
    "                  Liveness + Loudness + Tempo + Valence\", data = df).fit()\n",
    "\n",
    "model_5_6_3.rsquared_adj"
   ]
  },
  {
   "cell_type": "code",
   "execution_count": 30,
   "metadata": {},
   "outputs": [
    {
     "data": {
      "text/plain": [
       "0.04735009491986919"
      ]
     },
     "execution_count": 30,
     "metadata": {},
     "output_type": "execute_result"
    }
   ],
   "source": [
    "# Remove Liveness\n",
    "model_5_6_4 = smf.ols(\"Popularity ~ Artist_Followers + Danceability + Acousticness + \\\n",
    "                  Loudness + Tempo + Valence\", data = df).fit()\n",
    "\n",
    "model_5_6_4.rsquared_adj"
   ]
  },
  {
   "cell_type": "code",
   "execution_count": 31,
   "metadata": {},
   "outputs": [
    {
     "data": {
      "text/plain": [
       "0.03850822075265847"
      ]
     },
     "execution_count": 31,
     "metadata": {},
     "output_type": "execute_result"
    }
   ],
   "source": [
    "# Remove Loudness\n",
    "model_5_6_5 = smf.ols(\"Popularity ~ Artist_Followers + Danceability + Acousticness + \\\n",
    "                  Liveness + Tempo + Valence\", data = df).fit()\n",
    "\n",
    "model_5_6_5.rsquared_adj"
   ]
  },
  {
   "cell_type": "code",
   "execution_count": 32,
   "metadata": {},
   "outputs": [
    {
     "data": {
      "text/plain": [
       "0.047184919962992566"
      ]
     },
     "execution_count": 32,
     "metadata": {},
     "output_type": "execute_result"
    }
   ],
   "source": [
    "# Remove Tempo\n",
    "model_5_6_6 = smf.ols(\"Popularity ~ Artist_Followers + Danceability + Acousticness + \\\n",
    "                  Liveness + Loudness + Valence\", data = df).fit()\n",
    "\n",
    "model_5_6_6.rsquared_adj"
   ]
  },
  {
   "cell_type": "code",
   "execution_count": 33,
   "metadata": {},
   "outputs": [
    {
     "data": {
      "text/plain": [
       "0.0520958918250497"
      ]
     },
     "execution_count": 33,
     "metadata": {},
     "output_type": "execute_result"
    }
   ],
   "source": [
    "# Remove Valence\n",
    "model_5_6_7 = smf.ols(\"Popularity ~ Artist_Followers + Danceability + Acousticness + \\\n",
    "                  Liveness + Loudness + Tempo\", data = df).fit()\n",
    "\n",
    "model_5_6_7.rsquared_adj"
   ]
  },
  {
   "cell_type": "code",
   "execution_count": 34,
   "metadata": {},
   "outputs": [],
   "source": [
    "# From the second round results above, we will continue the process with model_5_6_2\n",
    "# Adjusted R-squared: 0.052666350277003615"
   ]
  },
  {
   "cell_type": "code",
   "execution_count": 35,
   "metadata": {},
   "outputs": [
    {
     "data": {
      "text/plain": [
       "0.03826424192628142"
      ]
     },
     "execution_count": 35,
     "metadata": {},
     "output_type": "execute_result"
    }
   ],
   "source": [
    "# Remove Artist_Followers\n",
    "model_5_6_2_1 = smf.ols(\"Popularity ~ Acousticness + \\\n",
    "                  Liveness + Loudness + Tempo + Valence\", data = df).fit()\n",
    "\n",
    "model_5_6_2_1.rsquared_adj"
   ]
  },
  {
   "cell_type": "code",
   "execution_count": 36,
   "metadata": {},
   "outputs": [
    {
     "data": {
      "text/plain": [
       "0.0483541244099458"
      ]
     },
     "execution_count": 36,
     "metadata": {},
     "output_type": "execute_result"
    }
   ],
   "source": [
    "# Remove Acousticness\n",
    "model_5_6_2_2 = smf.ols(\"Popularity ~ Artist_Followers + \\\n",
    "                  Liveness + Loudness + Tempo + Valence\", data = df).fit()\n",
    "\n",
    "model_5_6_2_2.rsquared_adj"
   ]
  },
  {
   "cell_type": "code",
   "execution_count": 37,
   "metadata": {},
   "outputs": [
    {
     "data": {
      "text/plain": [
       "0.047799587152311696"
      ]
     },
     "execution_count": 37,
     "metadata": {},
     "output_type": "execute_result"
    }
   ],
   "source": [
    "# Remove Liveness\n",
    "model_5_6_2_3 = smf.ols(\"Popularity ~ Artist_Followers + Acousticness + \\\n",
    "                  Loudness + Tempo + Valence\", data = df).fit()\n",
    "\n",
    "model_5_6_2_3.rsquared_adj"
   ]
  },
  {
   "cell_type": "code",
   "execution_count": 38,
   "metadata": {},
   "outputs": [
    {
     "data": {
      "text/plain": [
       "0.04010601603630537"
      ]
     },
     "execution_count": 38,
     "metadata": {},
     "output_type": "execute_result"
    }
   ],
   "source": [
    "# Remove Loudness\n",
    "model_5_6_2_4 = smf.ols(\"Popularity ~ Artist_Followers + Acousticness + \\\n",
    "                  Liveness + Tempo + Valence\", data = df).fit()\n",
    "\n",
    "model_5_6_2_4.rsquared_adj"
   ]
  },
  {
   "cell_type": "code",
   "execution_count": 39,
   "metadata": {},
   "outputs": [
    {
     "data": {
      "text/plain": [
       "0.03642421576496446"
      ]
     },
     "execution_count": 39,
     "metadata": {},
     "output_type": "execute_result"
    }
   ],
   "source": [
    "# Remove Tempo\n",
    "model_5_6_2_5 = smf.ols(\"Popularity ~ Artist_Followers + Acousticness + \\\n",
    "                  Liveness + Valence\", data = df).fit()\n",
    "\n",
    "model_5_6_2_5.rsquared_adj"
   ]
  },
  {
   "cell_type": "code",
   "execution_count": 40,
   "metadata": {},
   "outputs": [
    {
     "data": {
      "text/plain": [
       "0.04203825284160101"
      ]
     },
     "execution_count": 40,
     "metadata": {},
     "output_type": "execute_result"
    }
   ],
   "source": [
    "# Remove Valence\n",
    "model_5_6_2_6 = smf.ols(\"Popularity ~ Artist_Followers + Acousticness + \\\n",
    "                  Liveness + Tempo\", data = df).fit()\n",
    "\n",
    "model_5_6_2_6.rsquared_adj"
   ]
  },
  {
   "cell_type": "code",
   "execution_count": 41,
   "metadata": {},
   "outputs": [],
   "source": [
    "# From the third round results above, we still stop with model_5_6_2 because the adjusted R-squared did not\n",
    "# go up after deletion of any predictor variable."
   ]
  },
  {
   "cell_type": "code",
   "execution_count": 42,
   "metadata": {},
   "outputs": [
    {
     "data": {
      "text/html": [
       "<table class=\"simpletable\">\n",
       "<caption>OLS Regression Results</caption>\n",
       "<tr>\n",
       "  <th>Dep. Variable:</th>       <td>Popularity</td>    <th>  R-squared:         </th> <td>   0.064</td>\n",
       "</tr>\n",
       "<tr>\n",
       "  <th>Model:</th>                   <td>OLS</td>       <th>  Adj. R-squared:    </th> <td>   0.053</td>\n",
       "</tr>\n",
       "<tr>\n",
       "  <th>Method:</th>             <td>Least Squares</td>  <th>  F-statistic:       </th> <td>   5.587</td>\n",
       "</tr>\n",
       "<tr>\n",
       "  <th>Date:</th>             <td>Mon, 04 Dec 2023</td> <th>  Prob (F-statistic):</th> <td>1.28e-05</td>\n",
       "</tr>\n",
       "<tr>\n",
       "  <th>Time:</th>                 <td>11:19:50</td>     <th>  Log-Likelihood:    </th> <td> -2033.7</td>\n",
       "</tr>\n",
       "<tr>\n",
       "  <th>No. Observations:</th>      <td>   496</td>      <th>  AIC:               </th> <td>   4081.</td>\n",
       "</tr>\n",
       "<tr>\n",
       "  <th>Df Residuals:</th>          <td>   489</td>      <th>  BIC:               </th> <td>   4111.</td>\n",
       "</tr>\n",
       "<tr>\n",
       "  <th>Df Model:</th>              <td>     6</td>      <th>                     </th>     <td> </td>   \n",
       "</tr>\n",
       "<tr>\n",
       "  <th>Covariance Type:</th>      <td>nonrobust</td>    <th>                     </th>     <td> </td>   \n",
       "</tr>\n",
       "</table>\n",
       "<table class=\"simpletable\">\n",
       "<tr>\n",
       "          <td></td>            <th>coef</th>     <th>std err</th>      <th>t</th>      <th>P>|t|</th>  <th>[0.025</th>    <th>0.975]</th>  \n",
       "</tr>\n",
       "<tr>\n",
       "  <th>Intercept</th>        <td>   82.6694</td> <td>    4.117</td> <td>   20.082</td> <td> 0.000</td> <td>   74.581</td> <td>   90.758</td>\n",
       "</tr>\n",
       "<tr>\n",
       "  <th>Artist_Followers</th> <td> 1.115e-07</td> <td> 3.84e-08</td> <td>    2.907</td> <td> 0.004</td> <td> 3.61e-08</td> <td> 1.87e-07</td>\n",
       "</tr>\n",
       "<tr>\n",
       "  <th>Acousticness</th>     <td>   -5.2290</td> <td>    2.909</td> <td>   -1.797</td> <td> 0.073</td> <td>  -10.945</td> <td>    0.487</td>\n",
       "</tr>\n",
       "<tr>\n",
       "  <th>Liveness</th>         <td>   -8.7636</td> <td>    4.673</td> <td>   -1.875</td> <td> 0.061</td> <td>  -17.945</td> <td>    0.418</td>\n",
       "</tr>\n",
       "<tr>\n",
       "  <th>Loudness</th>         <td>    0.8333</td> <td>    0.304</td> <td>    2.738</td> <td> 0.006</td> <td>    0.235</td> <td>    1.431</td>\n",
       "</tr>\n",
       "<tr>\n",
       "  <th>Tempo</th>            <td>   -0.0426</td> <td>    0.023</td> <td>   -1.865</td> <td> 0.063</td> <td>   -0.087</td> <td>    0.002</td>\n",
       "</tr>\n",
       "<tr>\n",
       "  <th>Valence</th>          <td>   -1.9385</td> <td>    2.985</td> <td>   -0.650</td> <td> 0.516</td> <td>   -7.803</td> <td>    3.926</td>\n",
       "</tr>\n",
       "</table>\n",
       "<table class=\"simpletable\">\n",
       "<tr>\n",
       "  <th>Omnibus:</th>       <td>273.075</td> <th>  Durbin-Watson:     </th> <td>   1.969</td>\n",
       "</tr>\n",
       "<tr>\n",
       "  <th>Prob(Omnibus):</th> <td> 0.000</td>  <th>  Jarque-Bera (JB):  </th> <td>2066.088</td>\n",
       "</tr>\n",
       "<tr>\n",
       "  <th>Skew:</th>          <td>-2.322</td>  <th>  Prob(JB):          </th> <td>    0.00</td>\n",
       "</tr>\n",
       "<tr>\n",
       "  <th>Kurtosis:</th>      <td>11.855</td>  <th>  Cond. No.          </th> <td>1.79e+08</td>\n",
       "</tr>\n",
       "</table><br/><br/>Notes:<br/>[1] Standard Errors assume that the covariance matrix of the errors is correctly specified.<br/>[2] The condition number is large, 1.79e+08. This might indicate that there are<br/>strong multicollinearity or other numerical problems."
      ],
      "text/plain": [
       "<class 'statsmodels.iolib.summary.Summary'>\n",
       "\"\"\"\n",
       "                            OLS Regression Results                            \n",
       "==============================================================================\n",
       "Dep. Variable:             Popularity   R-squared:                       0.064\n",
       "Model:                            OLS   Adj. R-squared:                  0.053\n",
       "Method:                 Least Squares   F-statistic:                     5.587\n",
       "Date:                Mon, 04 Dec 2023   Prob (F-statistic):           1.28e-05\n",
       "Time:                        11:19:50   Log-Likelihood:                -2033.7\n",
       "No. Observations:                 496   AIC:                             4081.\n",
       "Df Residuals:                     489   BIC:                             4111.\n",
       "Df Model:                           6                                         \n",
       "Covariance Type:            nonrobust                                         \n",
       "====================================================================================\n",
       "                       coef    std err          t      P>|t|      [0.025      0.975]\n",
       "------------------------------------------------------------------------------------\n",
       "Intercept           82.6694      4.117     20.082      0.000      74.581      90.758\n",
       "Artist_Followers  1.115e-07   3.84e-08      2.907      0.004    3.61e-08    1.87e-07\n",
       "Acousticness        -5.2290      2.909     -1.797      0.073     -10.945       0.487\n",
       "Liveness            -8.7636      4.673     -1.875      0.061     -17.945       0.418\n",
       "Loudness             0.8333      0.304      2.738      0.006       0.235       1.431\n",
       "Tempo               -0.0426      0.023     -1.865      0.063      -0.087       0.002\n",
       "Valence             -1.9385      2.985     -0.650      0.516      -7.803       3.926\n",
       "==============================================================================\n",
       "Omnibus:                      273.075   Durbin-Watson:                   1.969\n",
       "Prob(Omnibus):                  0.000   Jarque-Bera (JB):             2066.088\n",
       "Skew:                          -2.322   Prob(JB):                         0.00\n",
       "Kurtosis:                      11.855   Cond. No.                     1.79e+08\n",
       "==============================================================================\n",
       "\n",
       "Notes:\n",
       "[1] Standard Errors assume that the covariance matrix of the errors is correctly specified.\n",
       "[2] The condition number is large, 1.79e+08. This might indicate that there are\n",
       "strong multicollinearity or other numerical problems.\n",
       "\"\"\""
      ]
     },
     "execution_count": 42,
     "metadata": {},
     "output_type": "execute_result"
    }
   ],
   "source": [
    "# Final (Parsimonious) Model\n",
    "final_model = smf.ols(\"Popularity ~ Artist_Followers + Acousticness + \\\n",
    "                  Liveness + Loudness + Tempo + Valence\", data = df).fit()\n",
    "\n",
    "# Show the summary\n",
    "final_model.summary()"
   ]
  },
  {
   "cell_type": "code",
   "execution_count": 43,
   "metadata": {},
   "outputs": [
    {
     "data": {
      "image/png": "[encoded data removed]",
      "text/plain": [
       "<Figure size 640x480 with 1 Axes>"
      ]
     },
     "metadata": {},
     "output_type": "display_data"
    }
   ],
   "source": [
    "# Linearity Condition\n",
    "y_pred = final_model.predict(X[[\"Artist_Followers\", \"Acousticness\", \"Liveness\", \"Loudness\", \"Tempo\", \"Valence\"]])\n",
    "residuals = X[\"Popularity\"] - y_pred\n",
    "\n",
    "plt.scatter(y_pred, residuals)\n",
    "plt.axhline(y = 0, color = 'r', linestyle = '--')\n",
    "plt.xlabel('Fitted (Predicted) values')\n",
    "plt.ylabel('Residuals')\n",
    "plt.title('Fitted values vs. Residuals Plot')\n",
    "plt.show()"
   ]
  },
  {
   "cell_type": "code",
   "execution_count": 44,
   "metadata": {},
   "outputs": [
    {
     "data": {
      "text/plain": [
       "0    75.210795\n",
       "dtype: float64"
      ]
     },
     "execution_count": 44,
     "metadata": {},
     "output_type": "execute_result"
    }
   ],
   "source": [
    "# Make at least one prediction \n",
    "temp = {\"Artist_Followers\" : [1000000], \"Acousticness\" : [0.5], \"Liveness\" : [0.5], \"Loudness\" : [0.5], \n",
    "        \"Tempo\" : [0.5], \"Valence\" : [0.5]}\n",
    "temp = pd.DataFrame(temp)\n",
    "\n",
    "final_model.predict(temp)"
   ]
  },
  {
   "cell_type": "markdown",
   "metadata": {},
   "source": [
    "### Some Questions to Answer\n",
    "1. Summary output: See above.\n",
    "\n",
    "\n",
    "2. Linear Regression Equation: ```yhat = 82.6694 + 1.115e-07 * Artist_Followers - 5.229 * Acousticness - 8.7637 * Liveness + 0.8333 * Loudness - 0.0426 * Tempo - 1.9385 * Valence.```\n",
    "\n",
    "\n",
    "3. Linearity Condition: There seems to be a roughly even distribution of negative and positive points. Therefore, this implies that there is a linear relationship between the response variable (popularity) and the chosen explanatory variables (artist followers, acousticness, liveness, loudness, tempo, and valence).\n",
    "\n",
    "\n",
    "4. We used backward elimination as our feature selection to build a parsimonious model. We chose this technique because we cannot try all possible combinations $\\approx 2^{9}$. Our final set of predictors are artist followers, acousticness, liveness, loudness, tempo, and valence. \n",
    "\n",
    "\n",
    "5. For each increase of the artist follower, the predicted expected popularity of a song will increase by 1.115e-07, on average, holding other variables, acousticness, liveness, loudness, tempo, and valence constant.\n",
    "\n",
    "\n",
    "6. Approx. 6.4% of the variability in the popularity of a song can be explained by its linear relationship with the artist followers, acousticness, liveness, loudness, tempo, and valence. The $R^2$ is relatively low.\n",
    "\n",
    "\n",
    "7. Make a prediction (code above): For a song that its artist has 100,0000 followers, and its acousticness, liveness, loudness, tempo and valence are all 0.5, the predicted expected popularity of the song is 75.2108, on average.\n",
    "\n",
    "\n",
    "8. To answer our research question, we first can see that the more popular the artist is, the more popular his/her songs are. Then, we can see that the overall loudness of a song tends to increase the popularity as well. On the other hand, factors such as acousticness, liveness, tempo and valence contribute negatively to the popularity of a song, with acousticness and liveness being the two biggest factors."
   ]
  },
  {
   "cell_type": "markdown",
   "metadata": {},
   "source": [
    "## 3. Logistic Regression and Classification\n",
    "\n",
    "Response: Whether a song is dance pop.\n",
    "\n",
    "\n",
    "Predictor variables: Popularity, Danceability, Energy and Loudness"
   ]
  },
  {
   "cell_type": "code",
   "execution_count": 45,
   "metadata": {},
   "outputs": [
    {
     "data": {
      "text/html": [
       "<div>\n",
       "<style scoped>\n",
       "    .dataframe tbody tr th:only-of-type {\n",
       "        vertical-align: middle;\n",
       "    }\n",
       "\n",
       "    .dataframe tbody tr th {\n",
       "        vertical-align: top;\n",
       "    }\n",
       "\n",
       "    .dataframe thead th {\n",
       "        text-align: right;\n",
       "    }\n",
       "</style>\n",
       "<table border=\"1\" class=\"dataframe\">\n",
       "  <thead>\n",
       "    <tr style=\"text-align: right;\">\n",
       "      <th></th>\n",
       "      <th>Genre_1</th>\n",
       "      <th>Popularity</th>\n",
       "      <th>Artist_Followers</th>\n",
       "      <th>Danceability</th>\n",
       "      <th>Acousticness</th>\n",
       "      <th>Energy</th>\n",
       "      <th>Liveness</th>\n",
       "      <th>Loudness</th>\n",
       "      <th>Speechiness</th>\n",
       "      <th>Tempo</th>\n",
       "      <th>Valence</th>\n",
       "    </tr>\n",
       "  </thead>\n",
       "  <tbody>\n",
       "    <tr>\n",
       "      <th>0</th>\n",
       "      <td>pop</td>\n",
       "      <td>87.0</td>\n",
       "      <td>1398563.0</td>\n",
       "      <td>0.449</td>\n",
       "      <td>0.524</td>\n",
       "      <td>0.465</td>\n",
       "      <td>0.303</td>\n",
       "      <td>-8.964</td>\n",
       "      <td>0.079</td>\n",
       "      <td>89.087</td>\n",
       "      <td>0.543</td>\n",
       "    </tr>\n",
       "    <tr>\n",
       "      <th>1</th>\n",
       "      <td>boy band</td>\n",
       "      <td>70.0</td>\n",
       "      <td>5436999.0</td>\n",
       "      <td>0.715</td>\n",
       "      <td>0.049</td>\n",
       "      <td>0.827</td>\n",
       "      <td>0.321</td>\n",
       "      <td>-5.090</td>\n",
       "      <td>0.062</td>\n",
       "      <td>117.977</td>\n",
       "      <td>0.750</td>\n",
       "    </tr>\n",
       "    <tr>\n",
       "      <th>2</th>\n",
       "      <td>pop</td>\n",
       "      <td>52.0</td>\n",
       "      <td>42227614.0</td>\n",
       "      <td>0.598</td>\n",
       "      <td>0.060</td>\n",
       "      <td>0.680</td>\n",
       "      <td>0.324</td>\n",
       "      <td>-4.505</td>\n",
       "      <td>0.033</td>\n",
       "      <td>134.002</td>\n",
       "      <td>0.437</td>\n",
       "    </tr>\n",
       "    <tr>\n",
       "      <th>3</th>\n",
       "      <td>latin</td>\n",
       "      <td>82.0</td>\n",
       "      <td>36142273.0</td>\n",
       "      <td>0.811</td>\n",
       "      <td>0.234</td>\n",
       "      <td>0.637</td>\n",
       "      <td>0.118</td>\n",
       "      <td>-4.835</td>\n",
       "      <td>0.059</td>\n",
       "      <td>92.025</td>\n",
       "      <td>0.471</td>\n",
       "    </tr>\n",
       "    <tr>\n",
       "      <th>4</th>\n",
       "      <td>melodic rap</td>\n",
       "      <td>67.0</td>\n",
       "      <td>11821805.0</td>\n",
       "      <td>0.881</td>\n",
       "      <td>0.033</td>\n",
       "      <td>0.457</td>\n",
       "      <td>0.231</td>\n",
       "      <td>-8.191</td>\n",
       "      <td>0.156</td>\n",
       "      <td>136.970</td>\n",
       "      <td>0.296</td>\n",
       "    </tr>\n",
       "  </tbody>\n",
       "</table>\n",
       "</div>"
      ],
      "text/plain": [
       "       Genre_1  Popularity  Artist_Followers  Danceability  Acousticness  \\\n",
       "0          pop        87.0         1398563.0         0.449         0.524   \n",
       "1     boy band        70.0         5436999.0         0.715         0.049   \n",
       "2          pop        52.0        42227614.0         0.598         0.060   \n",
       "3        latin        82.0        36142273.0         0.811         0.234   \n",
       "4  melodic rap        67.0        11821805.0         0.881         0.033   \n",
       "\n",
       "   Energy  Liveness  Loudness  Speechiness    Tempo  Valence  \n",
       "0   0.465     0.303    -8.964        0.079   89.087    0.543  \n",
       "1   0.827     0.321    -5.090        0.062  117.977    0.750  \n",
       "2   0.680     0.324    -4.505        0.033  134.002    0.437  \n",
       "3   0.637     0.118    -4.835        0.059   92.025    0.471  \n",
       "4   0.457     0.231    -8.191        0.156  136.970    0.296  "
      ]
     },
     "execution_count": 45,
     "metadata": {},
     "output_type": "execute_result"
    }
   ],
   "source": [
    "X.head()"
   ]
  },
  {
   "cell_type": "code",
   "execution_count": 46,
   "metadata": {},
   "outputs": [
    {
     "data": {
      "text/html": [
       "<div>\n",
       "<style scoped>\n",
       "    .dataframe tbody tr th:only-of-type {\n",
       "        vertical-align: middle;\n",
       "    }\n",
       "\n",
       "    .dataframe tbody tr th {\n",
       "        vertical-align: top;\n",
       "    }\n",
       "\n",
       "    .dataframe thead th {\n",
       "        text-align: right;\n",
       "    }\n",
       "</style>\n",
       "<table border=\"1\" class=\"dataframe\">\n",
       "  <thead>\n",
       "    <tr style=\"text-align: right;\">\n",
       "      <th></th>\n",
       "      <th>Genre_1</th>\n",
       "      <th>Popularity</th>\n",
       "      <th>Artist_Followers</th>\n",
       "      <th>Danceability</th>\n",
       "      <th>Acousticness</th>\n",
       "      <th>Energy</th>\n",
       "      <th>Liveness</th>\n",
       "      <th>Loudness</th>\n",
       "      <th>Speechiness</th>\n",
       "      <th>Tempo</th>\n",
       "      <th>Valence</th>\n",
       "      <th>is_dance_pop</th>\n",
       "    </tr>\n",
       "  </thead>\n",
       "  <tbody>\n",
       "    <tr>\n",
       "      <th>27</th>\n",
       "      <td>dance pop</td>\n",
       "      <td>75.0</td>\n",
       "      <td>1304510.0</td>\n",
       "      <td>0.740</td>\n",
       "      <td>0.025</td>\n",
       "      <td>0.576</td>\n",
       "      <td>0.104</td>\n",
       "      <td>-6.744</td>\n",
       "      <td>0.146</td>\n",
       "      <td>110.095</td>\n",
       "      <td>0.315</td>\n",
       "      <td>1</td>\n",
       "    </tr>\n",
       "    <tr>\n",
       "      <th>38</th>\n",
       "      <td>dance pop</td>\n",
       "      <td>58.0</td>\n",
       "      <td>18585963.0</td>\n",
       "      <td>0.668</td>\n",
       "      <td>0.024</td>\n",
       "      <td>0.826</td>\n",
       "      <td>0.474</td>\n",
       "      <td>-4.466</td>\n",
       "      <td>0.038</td>\n",
       "      <td>122.973</td>\n",
       "      <td>0.388</td>\n",
       "      <td>1</td>\n",
       "    </tr>\n",
       "    <tr>\n",
       "      <th>41</th>\n",
       "      <td>dance pop</td>\n",
       "      <td>63.0</td>\n",
       "      <td>67208170.0</td>\n",
       "      <td>0.499</td>\n",
       "      <td>0.801</td>\n",
       "      <td>0.462</td>\n",
       "      <td>0.095</td>\n",
       "      <td>-5.308</td>\n",
       "      <td>0.031</td>\n",
       "      <td>127.698</td>\n",
       "      <td>0.599</td>\n",
       "      <td>1</td>\n",
       "    </tr>\n",
       "    <tr>\n",
       "      <th>42</th>\n",
       "      <td>dance pop</td>\n",
       "      <td>92.0</td>\n",
       "      <td>32574754.0</td>\n",
       "      <td>0.586</td>\n",
       "      <td>0.182</td>\n",
       "      <td>0.616</td>\n",
       "      <td>0.093</td>\n",
       "      <td>-7.964</td>\n",
       "      <td>0.032</td>\n",
       "      <td>148.088</td>\n",
       "      <td>0.719</td>\n",
       "      <td>1</td>\n",
       "    </tr>\n",
       "    <tr>\n",
       "      <th>47</th>\n",
       "      <td>dance pop</td>\n",
       "      <td>49.0</td>\n",
       "      <td>28931149.0</td>\n",
       "      <td>0.691</td>\n",
       "      <td>0.484</td>\n",
       "      <td>0.446</td>\n",
       "      <td>0.183</td>\n",
       "      <td>-10.304</td>\n",
       "      <td>0.047</td>\n",
       "      <td>93.030</td>\n",
       "      <td>0.534</td>\n",
       "      <td>1</td>\n",
       "    </tr>\n",
       "  </tbody>\n",
       "</table>\n",
       "</div>"
      ],
      "text/plain": [
       "      Genre_1  Popularity  Artist_Followers  Danceability  Acousticness  \\\n",
       "27  dance pop        75.0         1304510.0         0.740         0.025   \n",
       "38  dance pop        58.0        18585963.0         0.668         0.024   \n",
       "41  dance pop        63.0        67208170.0         0.499         0.801   \n",
       "42  dance pop        92.0        32574754.0         0.586         0.182   \n",
       "47  dance pop        49.0        28931149.0         0.691         0.484   \n",
       "\n",
       "    Energy  Liveness  Loudness  Speechiness    Tempo  Valence  is_dance_pop  \n",
       "27   0.576     0.104    -6.744        0.146  110.095    0.315             1  \n",
       "38   0.826     0.474    -4.466        0.038  122.973    0.388             1  \n",
       "41   0.462     0.095    -5.308        0.031  127.698    0.599             1  \n",
       "42   0.616     0.093    -7.964        0.032  148.088    0.719             1  \n",
       "47   0.446     0.183   -10.304        0.047   93.030    0.534             1  "
      ]
     },
     "execution_count": 46,
     "metadata": {},
     "output_type": "execute_result"
    }
   ],
   "source": [
    "# Convert Genre_1 to 0/1 values\n",
    "X[\"is_dance_pop\"] = X[\"Genre_1\"].apply(lambda x: 1 if x == \"dance pop\" else 0)\n",
    "\n",
    "# Make sure it actually works\n",
    "X[X[\"Genre_1\"] == \"dance pop\"].head()"
   ]
  },
  {
   "cell_type": "code",
   "execution_count": 47,
   "metadata": {},
   "outputs": [],
   "source": [
    "# Split the dataset into training (0.7) and testing (0.3) dataset \n",
    "\n",
    "X_train, X_test = train_test_split(X, test_size = 0.3, random_state = 207)"
   ]
  },
  {
   "cell_type": "code",
   "execution_count": 48,
   "metadata": {},
   "outputs": [
    {
     "name": "stdout",
     "output_type": "stream",
     "text": [
      "474\n",
      "331\n",
      "143\n"
     ]
    }
   ],
   "source": [
    "# Make sure the sizes are correct\n",
    "print(len(X))\n",
    "print(len(X_train))\n",
    "print(len(X_test))"
   ]
  },
  {
   "cell_type": "code",
   "execution_count": 49,
   "metadata": {},
   "outputs": [
    {
     "name": "stdout",
     "output_type": "stream",
     "text": [
      "Genre_1             0\n",
      "Popularity          0\n",
      "Artist_Followers    0\n",
      "Danceability        0\n",
      "Acousticness        0\n",
      "Energy              0\n",
      "Liveness            0\n",
      "Loudness            0\n",
      "Speechiness         0\n",
      "Tempo               0\n",
      "Valence             0\n",
      "is_dance_pop        0\n",
      "dtype: int64\n"
     ]
    }
   ],
   "source": [
    "print(X_train.isnull().sum())"
   ]
  },
  {
   "cell_type": "code",
   "execution_count": 50,
   "metadata": {},
   "outputs": [
    {
     "name": "stdout",
     "output_type": "stream",
     "text": [
      "Genre_1             0\n",
      "Popularity          0\n",
      "Artist_Followers    0\n",
      "Danceability        0\n",
      "Acousticness        0\n",
      "Energy              0\n",
      "Liveness            0\n",
      "Loudness            0\n",
      "Speechiness         0\n",
      "Tempo               0\n",
      "Valence             0\n",
      "is_dance_pop        0\n",
      "dtype: int64\n"
     ]
    }
   ],
   "source": [
    "print(X_test.isnull().sum())"
   ]
  },
  {
   "cell_type": "code",
   "execution_count": 51,
   "metadata": {},
   "outputs": [
    {
     "name": "stdout",
     "output_type": "stream",
     "text": [
      "Optimization terminated successfully.\n",
      "         Current function value: 0.441758\n",
      "         Iterations 6\n"
     ]
    },
    {
     "data": {
      "text/html": [
       "<table class=\"simpletable\">\n",
       "<caption>Logit Regression Results</caption>\n",
       "<tr>\n",
       "  <th>Dep. Variable:</th>     <td>is_dance_pop</td>   <th>  No. Observations:  </th>  <td>   331</td> \n",
       "</tr>\n",
       "<tr>\n",
       "  <th>Model:</th>                 <td>Logit</td>      <th>  Df Residuals:      </th>  <td>   326</td> \n",
       "</tr>\n",
       "<tr>\n",
       "  <th>Method:</th>                 <td>MLE</td>       <th>  Df Model:          </th>  <td>     4</td> \n",
       "</tr>\n",
       "<tr>\n",
       "  <th>Date:</th>            <td>Mon, 04 Dec 2023</td> <th>  Pseudo R-squ.:     </th>  <td>0.03833</td>\n",
       "</tr>\n",
       "<tr>\n",
       "  <th>Time:</th>                <td>11:19:50</td>     <th>  Log-Likelihood:    </th> <td> -146.22</td>\n",
       "</tr>\n",
       "<tr>\n",
       "  <th>converged:</th>             <td>True</td>       <th>  LL-Null:           </th> <td> -152.05</td>\n",
       "</tr>\n",
       "<tr>\n",
       "  <th>Covariance Type:</th>     <td>nonrobust</td>    <th>  LLR p-value:       </th>  <td>0.02010</td>\n",
       "</tr>\n",
       "</table>\n",
       "<table class=\"simpletable\">\n",
       "<tr>\n",
       "        <td></td>          <th>coef</th>     <th>std err</th>      <th>z</th>      <th>P>|z|</th>  <th>[0.025</th>    <th>0.975]</th>  \n",
       "</tr>\n",
       "<tr>\n",
       "  <th>Intercept</th>    <td>   -1.0837</td> <td>    2.166</td> <td>   -0.500</td> <td> 0.617</td> <td>   -5.329</td> <td>    3.161</td>\n",
       "</tr>\n",
       "<tr>\n",
       "  <th>Popularity</th>   <td>    0.0152</td> <td>    0.016</td> <td>    0.952</td> <td> 0.341</td> <td>   -0.016</td> <td>    0.046</td>\n",
       "</tr>\n",
       "<tr>\n",
       "  <th>Danceability</th> <td>   -1.0033</td> <td>    1.094</td> <td>   -0.917</td> <td> 0.359</td> <td>   -3.147</td> <td>    1.140</td>\n",
       "</tr>\n",
       "<tr>\n",
       "  <th>Energy</th>       <td>    0.3947</td> <td>    1.450</td> <td>    0.272</td> <td> 0.785</td> <td>   -2.447</td> <td>    3.236</td>\n",
       "</tr>\n",
       "<tr>\n",
       "  <th>Loudness</th>     <td>    0.1928</td> <td>    0.108</td> <td>    1.785</td> <td> 0.074</td> <td>   -0.019</td> <td>    0.405</td>\n",
       "</tr>\n",
       "</table>"
      ],
      "text/plain": [
       "<class 'statsmodels.iolib.summary.Summary'>\n",
       "\"\"\"\n",
       "                           Logit Regression Results                           \n",
       "==============================================================================\n",
       "Dep. Variable:           is_dance_pop   No. Observations:                  331\n",
       "Model:                          Logit   Df Residuals:                      326\n",
       "Method:                           MLE   Df Model:                            4\n",
       "Date:                Mon, 04 Dec 2023   Pseudo R-squ.:                 0.03833\n",
       "Time:                        11:19:50   Log-Likelihood:                -146.22\n",
       "converged:                       True   LL-Null:                       -152.05\n",
       "Covariance Type:            nonrobust   LLR p-value:                   0.02010\n",
       "================================================================================\n",
       "                   coef    std err          z      P>|z|      [0.025      0.975]\n",
       "--------------------------------------------------------------------------------\n",
       "Intercept       -1.0837      2.166     -0.500      0.617      -5.329       3.161\n",
       "Popularity       0.0152      0.016      0.952      0.341      -0.016       0.046\n",
       "Danceability    -1.0033      1.094     -0.917      0.359      -3.147       1.140\n",
       "Energy           0.3947      1.450      0.272      0.785      -2.447       3.236\n",
       "Loudness         0.1928      0.108      1.785      0.074      -0.019       0.405\n",
       "================================================================================\n",
       "\"\"\""
      ]
     },
     "execution_count": 51,
     "metadata": {},
     "output_type": "execute_result"
    }
   ],
   "source": [
    "# Fit a logistic regression model\n",
    "log_mod = smf.logit(\"is_dance_pop ~ Popularity + Danceability + Energy + Loudness\", data = X_train).fit()\n",
    "\n",
    "# Show the summary\n",
    "log_mod.summary()"
   ]
  },
  {
   "cell_type": "code",
   "execution_count": 52,
   "metadata": {},
   "outputs": [
    {
     "data": {
      "text/html": [
       "<div>\n",
       "<style scoped>\n",
       "    .dataframe tbody tr th:only-of-type {\n",
       "        vertical-align: middle;\n",
       "    }\n",
       "\n",
       "    .dataframe tbody tr th {\n",
       "        vertical-align: top;\n",
       "    }\n",
       "\n",
       "    .dataframe thead th {\n",
       "        text-align: right;\n",
       "    }\n",
       "</style>\n",
       "<table border=\"1\" class=\"dataframe\">\n",
       "  <thead>\n",
       "    <tr style=\"text-align: right;\">\n",
       "      <th></th>\n",
       "      <th>Genre_1</th>\n",
       "      <th>Popularity</th>\n",
       "      <th>Artist_Followers</th>\n",
       "      <th>Danceability</th>\n",
       "      <th>Acousticness</th>\n",
       "      <th>Energy</th>\n",
       "      <th>Liveness</th>\n",
       "      <th>Loudness</th>\n",
       "      <th>Speechiness</th>\n",
       "      <th>Tempo</th>\n",
       "      <th>Valence</th>\n",
       "      <th>is_dance_pop</th>\n",
       "      <th>predictive_prob</th>\n",
       "    </tr>\n",
       "  </thead>\n",
       "  <tbody>\n",
       "    <tr>\n",
       "      <th>277</th>\n",
       "      <td>atl hip hop</td>\n",
       "      <td>73.0</td>\n",
       "      <td>9949044.0</td>\n",
       "      <td>0.825</td>\n",
       "      <td>0.349</td>\n",
       "      <td>0.733</td>\n",
       "      <td>0.112</td>\n",
       "      <td>-5.625</td>\n",
       "      <td>0.097</td>\n",
       "      <td>97.974</td>\n",
       "      <td>0.620</td>\n",
       "      <td>0</td>\n",
       "      <td>0.167935</td>\n",
       "    </tr>\n",
       "    <tr>\n",
       "      <th>347</th>\n",
       "      <td>pop</td>\n",
       "      <td>68.0</td>\n",
       "      <td>19345579.0</td>\n",
       "      <td>0.764</td>\n",
       "      <td>0.082</td>\n",
       "      <td>0.887</td>\n",
       "      <td>0.847</td>\n",
       "      <td>-3.726</td>\n",
       "      <td>0.074</td>\n",
       "      <td>118.427</td>\n",
       "      <td>0.720</td>\n",
       "      <td>0</td>\n",
       "      <td>0.233623</td>\n",
       "    </tr>\n",
       "    <tr>\n",
       "      <th>211</th>\n",
       "      <td>florida rap</td>\n",
       "      <td>70.0</td>\n",
       "      <td>2203386.0</td>\n",
       "      <td>0.733</td>\n",
       "      <td>0.051</td>\n",
       "      <td>0.389</td>\n",
       "      <td>0.141</td>\n",
       "      <td>-8.468</td>\n",
       "      <td>0.074</td>\n",
       "      <td>157.878</td>\n",
       "      <td>0.244</td>\n",
       "      <td>0</td>\n",
       "      <td>0.096437</td>\n",
       "    </tr>\n",
       "    <tr>\n",
       "      <th>30</th>\n",
       "      <td>brooklyn drill</td>\n",
       "      <td>70.0</td>\n",
       "      <td>6852509.0</td>\n",
       "      <td>0.764</td>\n",
       "      <td>0.389</td>\n",
       "      <td>0.676</td>\n",
       "      <td>0.215</td>\n",
       "      <td>-6.761</td>\n",
       "      <td>0.093</td>\n",
       "      <td>97.020</td>\n",
       "      <td>0.461</td>\n",
       "      <td>0</td>\n",
       "      <td>0.138698</td>\n",
       "    </tr>\n",
       "    <tr>\n",
       "      <th>415</th>\n",
       "      <td>canadian hip hop</td>\n",
       "      <td>80.0</td>\n",
       "      <td>3828418.0</td>\n",
       "      <td>0.904</td>\n",
       "      <td>0.063</td>\n",
       "      <td>0.723</td>\n",
       "      <td>0.185</td>\n",
       "      <td>-5.224</td>\n",
       "      <td>0.260</td>\n",
       "      <td>145.013</td>\n",
       "      <td>0.835</td>\n",
       "      <td>0</td>\n",
       "      <td>0.182407</td>\n",
       "    </tr>\n",
       "  </tbody>\n",
       "</table>\n",
       "</div>"
      ],
      "text/plain": [
       "              Genre_1  Popularity  Artist_Followers  Danceability  \\\n",
       "277       atl hip hop        73.0         9949044.0         0.825   \n",
       "347               pop        68.0        19345579.0         0.764   \n",
       "211       florida rap        70.0         2203386.0         0.733   \n",
       "30     brooklyn drill        70.0         6852509.0         0.764   \n",
       "415  canadian hip hop        80.0         3828418.0         0.904   \n",
       "\n",
       "     Acousticness  Energy  Liveness  Loudness  Speechiness    Tempo  Valence  \\\n",
       "277         0.349   0.733     0.112    -5.625        0.097   97.974    0.620   \n",
       "347         0.082   0.887     0.847    -3.726        0.074  118.427    0.720   \n",
       "211         0.051   0.389     0.141    -8.468        0.074  157.878    0.244   \n",
       "30          0.389   0.676     0.215    -6.761        0.093   97.020    0.461   \n",
       "415         0.063   0.723     0.185    -5.224        0.260  145.013    0.835   \n",
       "\n",
       "     is_dance_pop  predictive_prob  \n",
       "277             0         0.167935  \n",
       "347             0         0.233623  \n",
       "211             0         0.096437  \n",
       "30              0         0.138698  \n",
       "415             0         0.182407  "
      ]
     },
     "execution_count": 52,
     "metadata": {},
     "output_type": "execute_result"
    }
   ],
   "source": [
    "# ROC Curve\n",
    "X_train[\"predictive_prob\"] = log_mod.predict(X_train)\n",
    "fprs, tprs, thresholds = roc_curve(y_true = X_train[\"is_dance_pop\"], y_score = X_train[\"predictive_prob\"])\n",
    "X_train.head()"
   ]
  },
  {
   "cell_type": "code",
   "execution_count": 53,
   "metadata": {},
   "outputs": [
    {
     "data": {
      "text/plain": [
       "0.6523882699449353"
      ]
     },
     "execution_count": 53,
     "metadata": {},
     "output_type": "execute_result"
    }
   ],
   "source": [
    "# AUC\n",
    "auc = roc_auc_score(y_true = X_train[\"is_dance_pop\"], y_score = X_train[\"predictive_prob\"])\n",
    "auc"
   ]
  },
  {
   "cell_type": "code",
   "execution_count": 54,
   "metadata": {},
   "outputs": [],
   "source": [
    "def plot_roc(fpr, tpr, auc, lw=2):\n",
    "    plt.plot(fpr, tpr, color='darkorange', lw=lw,\n",
    "             label='ROC curve (area = '+str(round(auc,3))+')')\n",
    "    plt.plot([0, 1], [0, 1], color='navy', lw=lw, linestyle='--')\n",
    "    plt.xlabel('False Positive Rate')\n",
    "    plt.ylabel('True Positive Rate')\n",
    "    plt.title('ROC Curve')\n",
    "    plt.legend(loc = \"lower right\")\n",
    "    plt.show()"
   ]
  },
  {
   "cell_type": "code",
   "execution_count": 55,
   "metadata": {},
   "outputs": [
    {
     "data": {
      "image/png": "[encoded data removed]",
      "text/plain": [
       "<Figure size 640x480 with 1 Axes>"
      ]
     },
     "metadata": {},
     "output_type": "display_data"
    }
   ],
   "source": [
    "plot_roc(fprs, tprs, auc)"
   ]
  },
  {
   "cell_type": "code",
   "execution_count": 56,
   "metadata": {},
   "outputs": [
    {
     "name": "stdout",
     "output_type": "stream",
     "text": [
      "   Threshold  fpr  tpr\n",
      "0        0.0  1.0  1.0\n",
      "   Threshold      fpr  tpr\n",
      "0       0.01  0.99635  1.0\n",
      "   Threshold       fpr  tpr\n",
      "0       0.02  0.985401  1.0\n",
      "   Threshold       fpr  tpr\n",
      "0       0.03  0.981752  1.0\n",
      "   Threshold       fpr  tpr\n",
      "0       0.04  0.974453  1.0\n",
      "   Threshold       fpr  tpr\n",
      "0       0.05  0.974453  1.0\n",
      "   Threshold       fpr       tpr\n",
      "0       0.06  0.963504  0.982456\n",
      "   Threshold       fpr       tpr\n",
      "0       0.07  0.937956  0.964912\n",
      "   Threshold       fpr       tpr\n",
      "0       0.08  0.927007  0.964912\n",
      "   Threshold       fpr       tpr\n",
      "0       0.09  0.883212  0.947368\n",
      "   Threshold       fpr       tpr\n",
      "0        0.1  0.832117  0.912281\n",
      "   Threshold       fpr       tpr\n",
      "0       0.11  0.777372  0.912281\n",
      "   Threshold       fpr       tpr\n",
      "0       0.12  0.737226  0.894737\n",
      "   Threshold       fpr       tpr\n",
      "0       0.13  0.656934  0.877193\n",
      "   Threshold       fpr       tpr\n",
      "0       0.14  0.613139  0.789474\n",
      "   Threshold       fpr      tpr\n",
      "0       0.15  0.540146  0.77193\n",
      "   Threshold       fpr       tpr\n",
      "0       0.16  0.507299  0.754386\n",
      "   Threshold       fpr       tpr\n",
      "0       0.17  0.452555  0.684211\n",
      "   Threshold       fpr       tpr\n",
      "0       0.18  0.405109  0.666667\n",
      "   Threshold       fpr       tpr\n",
      "0       0.19  0.354015  0.631579\n",
      "   Threshold      fpr      tpr\n",
      "0        0.2  0.29562  0.45614\n",
      "   Threshold       fpr       tpr\n",
      "0       0.21  0.262774  0.385965\n",
      "   Threshold       fpr       tpr\n",
      "0       0.22  0.218978  0.385965\n",
      "   Threshold       fpr       tpr\n",
      "0       0.23  0.160584  0.368421\n",
      "   Threshold       fpr       tpr\n",
      "0       0.24  0.120438  0.263158\n",
      "   Threshold       fpr      tpr\n",
      "0       0.25  0.109489  0.22807\n",
      "   Threshold       fpr      tpr\n",
      "0       0.26  0.080292  0.22807\n",
      "   Threshold       fpr       tpr\n",
      "0       0.27  0.069343  0.175439\n",
      "   Threshold       fpr       tpr\n",
      "0       0.28  0.047445  0.157895\n",
      "   Threshold       fpr       tpr\n",
      "0       0.29  0.047445  0.087719\n",
      "   Threshold       fpr       tpr\n",
      "0        0.3  0.040146  0.035088\n",
      "   Threshold       fpr       tpr\n",
      "0       0.31  0.029197  0.017544\n",
      "   Threshold       fpr  tpr\n",
      "0       0.32  0.025547  0.0\n",
      "   Threshold       fpr  tpr\n",
      "0       0.33  0.025547  0.0\n",
      "   Threshold       fpr  tpr\n",
      "0       0.34  0.025547  0.0\n",
      "   Threshold       fpr  tpr\n",
      "0       0.35  0.014599  0.0\n",
      "   Threshold       fpr  tpr\n",
      "0       0.36  0.007299  0.0\n",
      "   Threshold      fpr  tpr\n",
      "0       0.37  0.00365  0.0\n",
      "   Threshold      fpr  tpr\n",
      "0       0.38  0.00365  0.0\n",
      "   Threshold      fpr  tpr\n",
      "0       0.39  0.00365  0.0\n",
      "   Threshold      fpr  tpr\n",
      "0        0.4  0.00365  0.0\n",
      "   Threshold      fpr  tpr\n",
      "0       0.41  0.00365  0.0\n",
      "   Threshold      fpr  tpr\n",
      "0       0.42  0.00365  0.0\n",
      "   Threshold      fpr  tpr\n",
      "0       0.43  0.00365  0.0\n",
      "   Threshold  fpr  tpr\n",
      "0       0.44  0.0  0.0\n",
      "   Threshold  fpr  tpr\n",
      "0       0.45  0.0  0.0\n",
      "   Threshold  fpr  tpr\n",
      "0       0.46  0.0  0.0\n",
      "   Threshold  fpr  tpr\n",
      "0       0.47  0.0  0.0\n",
      "   Threshold  fpr  tpr\n",
      "0       0.48  0.0  0.0\n",
      "   Threshold  fpr  tpr\n",
      "0       0.49  0.0  0.0\n",
      "   Threshold  fpr  tpr\n",
      "0        0.5  0.0  0.0\n",
      "   Threshold  fpr  tpr\n",
      "0       0.51  0.0  0.0\n",
      "   Threshold  fpr  tpr\n",
      "0       0.52  0.0  0.0\n",
      "   Threshold  fpr  tpr\n",
      "0       0.53  0.0  0.0\n",
      "   Threshold  fpr  tpr\n",
      "0       0.54  0.0  0.0\n",
      "   Threshold  fpr  tpr\n",
      "0       0.55  0.0  0.0\n",
      "   Threshold  fpr  tpr\n",
      "0       0.56  0.0  0.0\n",
      "   Threshold  fpr  tpr\n",
      "0       0.57  0.0  0.0\n",
      "   Threshold  fpr  tpr\n",
      "0       0.58  0.0  0.0\n",
      "   Threshold  fpr  tpr\n",
      "0       0.59  0.0  0.0\n",
      "   Threshold  fpr  tpr\n",
      "0        0.6  0.0  0.0\n",
      "   Threshold  fpr  tpr\n",
      "0       0.61  0.0  0.0\n",
      "   Threshold  fpr  tpr\n",
      "0       0.62  0.0  0.0\n",
      "   Threshold  fpr  tpr\n",
      "0       0.63  0.0  0.0\n",
      "   Threshold  fpr  tpr\n",
      "0       0.64  0.0  0.0\n",
      "   Threshold  fpr  tpr\n",
      "0       0.65  0.0  0.0\n",
      "   Threshold  fpr  tpr\n",
      "0       0.66  0.0  0.0\n",
      "   Threshold  fpr  tpr\n",
      "0       0.67  0.0  0.0\n",
      "   Threshold  fpr  tpr\n",
      "0       0.68  0.0  0.0\n",
      "   Threshold  fpr  tpr\n",
      "0       0.69  0.0  0.0\n",
      "   Threshold  fpr  tpr\n",
      "0        0.7  0.0  0.0\n",
      "   Threshold  fpr  tpr\n",
      "0       0.71  0.0  0.0\n",
      "   Threshold  fpr  tpr\n",
      "0       0.72  0.0  0.0\n",
      "   Threshold  fpr  tpr\n",
      "0       0.73  0.0  0.0\n",
      "   Threshold  fpr  tpr\n",
      "0       0.74  0.0  0.0\n",
      "   Threshold  fpr  tpr\n",
      "0       0.75  0.0  0.0\n",
      "   Threshold  fpr  tpr\n",
      "0       0.76  0.0  0.0\n",
      "   Threshold  fpr  tpr\n",
      "0       0.77  0.0  0.0\n",
      "   Threshold  fpr  tpr\n",
      "0       0.78  0.0  0.0\n",
      "   Threshold  fpr  tpr\n",
      "0       0.79  0.0  0.0\n",
      "   Threshold  fpr  tpr\n",
      "0        0.8  0.0  0.0\n",
      "   Threshold  fpr  tpr\n",
      "0       0.81  0.0  0.0\n",
      "   Threshold  fpr  tpr\n",
      "0       0.82  0.0  0.0\n",
      "   Threshold  fpr  tpr\n",
      "0       0.83  0.0  0.0\n",
      "   Threshold  fpr  tpr\n",
      "0       0.84  0.0  0.0\n",
      "   Threshold  fpr  tpr\n",
      "0       0.85  0.0  0.0\n",
      "   Threshold  fpr  tpr\n",
      "0       0.86  0.0  0.0\n",
      "   Threshold  fpr  tpr\n",
      "0       0.87  0.0  0.0\n",
      "   Threshold  fpr  tpr\n",
      "0       0.88  0.0  0.0\n",
      "   Threshold  fpr  tpr\n",
      "0       0.89  0.0  0.0\n",
      "   Threshold  fpr  tpr\n",
      "0        0.9  0.0  0.0\n",
      "   Threshold  fpr  tpr\n",
      "0       0.91  0.0  0.0\n",
      "   Threshold  fpr  tpr\n",
      "0       0.92  0.0  0.0\n",
      "   Threshold  fpr  tpr\n",
      "0       0.93  0.0  0.0\n",
      "   Threshold  fpr  tpr\n",
      "0       0.94  0.0  0.0\n",
      "   Threshold  fpr  tpr\n",
      "0       0.95  0.0  0.0\n",
      "   Threshold  fpr  tpr\n",
      "0       0.96  0.0  0.0\n",
      "   Threshold  fpr  tpr\n",
      "0       0.97  0.0  0.0\n",
      "   Threshold  fpr  tpr\n",
      "0       0.98  0.0  0.0\n",
      "   Threshold  fpr  tpr\n",
      "0       0.99  0.0  0.0\n",
      "   Threshold  fpr  tpr\n",
      "0        1.0  0.0  0.0\n"
     ]
    }
   ],
   "source": [
    "def fpr_tpr_thresh(y, pred_prob, thresh):\n",
    "    yhat = 1 * (pred_prob >= thresh)\n",
    "    tn, fp, fn, tp = confusion_matrix(y_true = y, y_pred = yhat).ravel()\n",
    "    tpr = tp / (fn + tp)\n",
    "    fpr = fp / (fp + tn)\n",
    "    \n",
    "    return pd.DataFrame({\"Threshold\": [thresh],\n",
    "                         \"fpr\": [fpr],\n",
    "                         \"tpr\": [tpr]})\n",
    "\n",
    "for thresh in np.arange(0,1.01,.01):\n",
    "    print(fpr_tpr_thresh(X_train['is_dance_pop'], X_train['predictive_prob'], thresh))"
   ]
  },
  {
   "cell_type": "code",
   "execution_count": 57,
   "metadata": {},
   "outputs": [
    {
     "data": {
      "text/html": [
       "<div>\n",
       "<style scoped>\n",
       "    .dataframe tbody tr th:only-of-type {\n",
       "        vertical-align: middle;\n",
       "    }\n",
       "\n",
       "    .dataframe tbody tr th {\n",
       "        vertical-align: top;\n",
       "    }\n",
       "\n",
       "    .dataframe thead th {\n",
       "        text-align: right;\n",
       "    }\n",
       "</style>\n",
       "<table border=\"1\" class=\"dataframe\">\n",
       "  <thead>\n",
       "    <tr style=\"text-align: right;\">\n",
       "      <th></th>\n",
       "      <th>Threshold</th>\n",
       "      <th>fpr</th>\n",
       "      <th>tpr</th>\n",
       "    </tr>\n",
       "  </thead>\n",
       "  <tbody>\n",
       "    <tr>\n",
       "      <th>0</th>\n",
       "      <td>0.19</td>\n",
       "      <td>0.354015</td>\n",
       "      <td>0.631579</td>\n",
       "    </tr>\n",
       "  </tbody>\n",
       "</table>\n",
       "</div>"
      ],
      "text/plain": [
       "   Threshold       fpr       tpr\n",
       "0       0.19  0.354015  0.631579"
      ]
     },
     "execution_count": 57,
     "metadata": {},
     "output_type": "execute_result"
    }
   ],
   "source": [
    "fpr_tpr_thresh(X_train['is_dance_pop'], X_train['predictive_prob'], 0.19)"
   ]
  },
  {
   "cell_type": "code",
   "execution_count": 58,
   "metadata": {},
   "outputs": [
    {
     "data": {
      "text/plain": [
       "0.6108189331329827"
      ]
     },
     "execution_count": 58,
     "metadata": {},
     "output_type": "execute_result"
    }
   ],
   "source": [
    "# AUC for the test dataset\n",
    "X_test[\"predictive_prob\"] = log_mod.predict(X_test)\n",
    "fprs, tprs, thresholds = roc_curve(y_true = X_test[\"is_dance_pop\"], y_score = X_test[\"predictive_prob\"])\n",
    "auc_test = roc_auc_score(y_true = X_test[\"is_dance_pop\"], y_score = X_test[\"predictive_prob\"])\n",
    "auc_test"
   ]
  },
  {
   "cell_type": "code",
   "execution_count": 59,
   "metadata": {},
   "outputs": [
    {
     "data": {
      "image/png": "[encoded data removed]",
      "text/plain": [
       "<Figure size 640x480 with 1 Axes>"
      ]
     },
     "metadata": {},
     "output_type": "display_data"
    }
   ],
   "source": [
    "# ROC Curve for the test dataset\n",
    "plot_roc(fprs, tprs, auc_test)"
   ]
  },
  {
   "cell_type": "code",
   "execution_count": 60,
   "metadata": {},
   "outputs": [
    {
     "data": {
      "text/html": [
       "<div>\n",
       "<style scoped>\n",
       "    .dataframe tbody tr th:only-of-type {\n",
       "        vertical-align: middle;\n",
       "    }\n",
       "\n",
       "    .dataframe tbody tr th {\n",
       "        vertical-align: top;\n",
       "    }\n",
       "\n",
       "    .dataframe thead th {\n",
       "        text-align: right;\n",
       "    }\n",
       "</style>\n",
       "<table border=\"1\" class=\"dataframe\">\n",
       "  <thead>\n",
       "    <tr style=\"text-align: right;\">\n",
       "      <th></th>\n",
       "      <th>Genre_1</th>\n",
       "      <th>Popularity</th>\n",
       "      <th>Artist_Followers</th>\n",
       "      <th>Danceability</th>\n",
       "      <th>Acousticness</th>\n",
       "      <th>Energy</th>\n",
       "      <th>Liveness</th>\n",
       "      <th>Loudness</th>\n",
       "      <th>Speechiness</th>\n",
       "      <th>Tempo</th>\n",
       "      <th>Valence</th>\n",
       "      <th>is_dance_pop</th>\n",
       "      <th>predictive_prob</th>\n",
       "    </tr>\n",
       "  </thead>\n",
       "  <tbody>\n",
       "    <tr>\n",
       "      <th>186</th>\n",
       "      <td>mariachi</td>\n",
       "      <td>71.0</td>\n",
       "      <td>8123757.0</td>\n",
       "      <td>0.650</td>\n",
       "      <td>0.368</td>\n",
       "      <td>0.558</td>\n",
       "      <td>0.303</td>\n",
       "      <td>-3.082</td>\n",
       "      <td>0.031</td>\n",
       "      <td>141.820</td>\n",
       "      <td>0.725</td>\n",
       "      <td>0</td>\n",
       "      <td>0.262351</td>\n",
       "    </tr>\n",
       "    <tr>\n",
       "      <th>374</th>\n",
       "      <td>comic</td>\n",
       "      <td>81.0</td>\n",
       "      <td>1042079.0</td>\n",
       "      <td>0.352</td>\n",
       "      <td>0.733</td>\n",
       "      <td>0.424</td>\n",
       "      <td>0.066</td>\n",
       "      <td>-10.131</td>\n",
       "      <td>0.039</td>\n",
       "      <td>127.047</td>\n",
       "      <td>0.141</td>\n",
       "      <td>0</td>\n",
       "      <td>0.119695</td>\n",
       "    </tr>\n",
       "    <tr>\n",
       "      <th>49</th>\n",
       "      <td>dance pop</td>\n",
       "      <td>83.0</td>\n",
       "      <td>11477164.0</td>\n",
       "      <td>0.476</td>\n",
       "      <td>0.060</td>\n",
       "      <td>0.594</td>\n",
       "      <td>0.079</td>\n",
       "      <td>-6.879</td>\n",
       "      <td>0.135</td>\n",
       "      <td>159.702</td>\n",
       "      <td>0.314</td>\n",
       "      <td>1</td>\n",
       "      <td>0.198568</td>\n",
       "    </tr>\n",
       "    <tr>\n",
       "      <th>297</th>\n",
       "      <td>latin</td>\n",
       "      <td>71.0</td>\n",
       "      <td>36177712.0</td>\n",
       "      <td>0.761</td>\n",
       "      <td>0.092</td>\n",
       "      <td>0.732</td>\n",
       "      <td>0.072</td>\n",
       "      <td>-5.469</td>\n",
       "      <td>0.055</td>\n",
       "      <td>151.982</td>\n",
       "      <td>0.542</td>\n",
       "      <td>0</td>\n",
       "      <td>0.177009</td>\n",
       "    </tr>\n",
       "    <tr>\n",
       "      <th>37</th>\n",
       "      <td>latin</td>\n",
       "      <td>69.0</td>\n",
       "      <td>36177712.0</td>\n",
       "      <td>0.683</td>\n",
       "      <td>0.087</td>\n",
       "      <td>0.677</td>\n",
       "      <td>0.100</td>\n",
       "      <td>-4.496</td>\n",
       "      <td>0.047</td>\n",
       "      <td>156.019</td>\n",
       "      <td>0.514</td>\n",
       "      <td>0</td>\n",
       "      <td>0.210337</td>\n",
       "    </tr>\n",
       "  </tbody>\n",
       "</table>\n",
       "</div>"
      ],
      "text/plain": [
       "       Genre_1  Popularity  Artist_Followers  Danceability  Acousticness  \\\n",
       "186   mariachi        71.0         8123757.0         0.650         0.368   \n",
       "374      comic        81.0         1042079.0         0.352         0.733   \n",
       "49   dance pop        83.0        11477164.0         0.476         0.060   \n",
       "297      latin        71.0        36177712.0         0.761         0.092   \n",
       "37       latin        69.0        36177712.0         0.683         0.087   \n",
       "\n",
       "     Energy  Liveness  Loudness  Speechiness    Tempo  Valence  is_dance_pop  \\\n",
       "186   0.558     0.303    -3.082        0.031  141.820    0.725             0   \n",
       "374   0.424     0.066   -10.131        0.039  127.047    0.141             0   \n",
       "49    0.594     0.079    -6.879        0.135  159.702    0.314             1   \n",
       "297   0.732     0.072    -5.469        0.055  151.982    0.542             0   \n",
       "37    0.677     0.100    -4.496        0.047  156.019    0.514             0   \n",
       "\n",
       "     predictive_prob  \n",
       "186         0.262351  \n",
       "374         0.119695  \n",
       "49          0.198568  \n",
       "297         0.177009  \n",
       "37          0.210337  "
      ]
     },
     "execution_count": 60,
     "metadata": {},
     "output_type": "execute_result"
    }
   ],
   "source": [
    "X_test.head()"
   ]
  },
  {
   "cell_type": "code",
   "execution_count": 61,
   "metadata": {},
   "outputs": [
    {
     "name": "stdout",
     "output_type": "stream",
     "text": [
      "Accuracy:  0.6433566433566433\n",
      "Sensitivity:  0.5454545454545454\n",
      "Specificity:  0.6611570247933884\n"
     ]
    }
   ],
   "source": [
    "# Accuracy rate, sensitivity and specificity \n",
    "thresh = 0.19\n",
    "X_test[\"yhat\"] = 1 * (X_test[\"predictive_prob\"] >= thresh)\n",
    "CM = confusion_matrix(y_true = X_test[\"is_dance_pop\"], y_pred = X_test[\"yhat\"])\n",
    "\n",
    "tn, fp, fn, tp = CM.ravel()\n",
    "accuracy = (tp + tn) / (tp + tn + fp + fn)\n",
    "print(\"Accuracy: \", accuracy)\n",
    "\n",
    "sensitivity = tp / (tp + fn)\n",
    "print(\"Sensitivity: \", sensitivity)\n",
    "\n",
    "specificity = tn / (tn + fp)\n",
    "print(\"Specificity: \", specificity)"
   ]
  },
  {
   "cell_type": "markdown",
   "metadata": {},
   "source": [
    "### Some Questions to Answer\n",
    "1. Model summary: See above \n",
    "2. Logistic regression equation: **Log odds of a song being dance pop = -1.0837 + 0.0152 * Popularity - 1.0033 * Danceability + 0.3947 * Energy + 0.1928 * Loudness.**\n",
    "3. ROC Curve: See above. From the research perspective, we would want to predict whether a given song is dance pop. On the other hand, we won't be penalized too hard for making a wrong decision. A good predictive probability threshold would therefore be 0.19 since we will have a relatively high true positive rate (0.6316), and a relatively low false positive rate (0.3540).\n",
    "4. The ROC curve of the test data is shown above. The AUC is lower in the test dataset, suggesting issue like overfitting.\n",
    "5. The classification of the test data has an accuracy of **0.6434**, a sensitivity of **0.5455** and a specificity of **0.6612**.\n",
    "6. The logistic regression analysis helps predicting whether a given song is dance pop. Considering that dance pop songs are the most common on the list, we could use this kind of classification to predict whether a song will be popular, based on factors like danceability, energy and loudness."
   ]
  },
  {
   "cell_type": "markdown",
   "metadata": {},
   "source": [
    "## 4. Descriptive Analytics and Inference\n",
    "\n",
    "We will first explore the relationship between variables ```Genre``` and ```Popularity``` of a song. Then we will perform a statistics inference to answer more questions regarding to songs in general. More specifically, we will see whether being dance pop actually makes a song more popular."
   ]
  },
  {
   "cell_type": "code",
   "execution_count": 66,
   "metadata": {},
   "outputs": [
    {
     "data": {
      "text/plain": [
       "dance pop            79\n",
       "latin                45\n",
       "pop                  33\n",
       "k-pop                18\n",
       "atl hip hop          18\n",
       "                     ..\n",
       "meme rap              1\n",
       "chicago soul          1\n",
       "belgian hip hop       1\n",
       "argentine hip hop     1\n",
       "beatlesque            1\n",
       "Name: Genre_1, Length: 103, dtype: int64"
      ]
     },
     "execution_count": 66,
     "metadata": {},
     "output_type": "execute_result"
    }
   ],
   "source": [
    "X[\"Genre_1\"].value_counts()"
   ]
  },
  {
   "cell_type": "code",
   "execution_count": 64,
   "metadata": {},
   "outputs": [
    {
     "data": {
      "image/png": "[encoded data removed]",
      "text/plain": [
       "<Figure size 640x480 with 1 Axes>"
      ]
     },
     "metadata": {},
     "output_type": "display_data"
    }
   ],
   "source": [
    "sns.boxplot(x = \"Genre_1\", y = \"Popularity\", data = df)\n",
    "plt.show()"
   ]
  },
  {
   "cell_type": "markdown",
   "metadata": {},
   "source": [
    "Interpretation: Even though we cannot see the actual genre names, we can see some huge IQR different between different genres. Therefore, we believe there's a strong relationship between genre and popularity. In other words, some genres are more popular than the others. "
   ]
  },
  {
   "cell_type": "markdown",
   "metadata": {},
   "source": [
    "**Hypothesis Test**\n",
    "\n",
    "$\\mu_1$ = The mean popularity of dance pop songs\n",
    "\n",
    "\n",
    "$\\mu_2$ = The mean popularity of non-dance pop songs\n",
    "\n",
    "$H_0: \\mu_1 = \\mu_2$\n",
    "\n",
    "\n",
    "$H_A: \\mu_2 \\neq \\mu_2$"
   ]
  },
  {
   "cell_type": "code",
   "execution_count": 84,
   "metadata": {},
   "outputs": [
    {
     "data": {
      "text/plain": [
       "79"
      ]
     },
     "execution_count": 84,
     "metadata": {},
     "output_type": "execute_result"
    }
   ],
   "source": [
    "pop_dance = X[X[\"Genre_1\"] == \"dance pop\"]\n",
    "len(pop_dance)"
   ]
  },
  {
   "cell_type": "code",
   "execution_count": 85,
   "metadata": {},
   "outputs": [
    {
     "data": {
      "text/plain": [
       "395"
      ]
     },
     "execution_count": 85,
     "metadata": {},
     "output_type": "execute_result"
    }
   ],
   "source": [
    "non_pop_dance = X[X[\"Genre_1\"] != \"dance pop\"]\n",
    "len(non_pop_dance)"
   ]
  },
  {
   "cell_type": "code",
   "execution_count": 86,
   "metadata": {},
   "outputs": [
    {
     "data": {
      "text/plain": [
       "474"
      ]
     },
     "execution_count": 86,
     "metadata": {},
     "output_type": "execute_result"
    }
   ],
   "source": [
    "len(X)"
   ]
  },
  {
   "cell_type": "code",
   "execution_count": 101,
   "metadata": {},
   "outputs": [
    {
     "name": "stdout",
     "output_type": "stream",
     "text": [
      "Pop dance mean popularity: 72.27848101265823\n",
      "Non-pop dance mean popularity: 71.45822784810126\n",
      "Difference between two means: 0.8202531645569735\n"
     ]
    }
   ],
   "source": [
    "# Our best estimates\n",
    "mu_1 = pop_dance[\"Popularity\"].mean()\n",
    "mu_2 = non_pop_dance[\"Popularity\"].mean()\n",
    "\n",
    "print(\"Pop dance mean popularity: {}\".format(mu_1))\n",
    "print(\"Non-pop dance mean popularity: {}\".format(mu_2))\n",
    "print(\"Difference between two means: {}\".format(mu_1 - mu_2))"
   ]
  },
  {
   "cell_type": "code",
   "execution_count": 83,
   "metadata": {},
   "outputs": [],
   "source": [
    "# Statistics Inference\n",
    "# Difference of popularity mean between dance pop and non dance pop songs\n",
    "def sampling_distr_diff(df1, df2, var, n1, n2, reps = 5000):\n",
    "    simulated_statistics = []\n",
    "    for i in range(reps):\n",
    "        df_sample1 = df1.sample(n1, replace = True)\n",
    "        df_sample2 = df2.sample(n2, replace = True)\n",
    "        simulated_statistics.append(df_sample1[var].mean() - df_sample2[var].mean())\n",
    "        \n",
    "    simulated_statistics = pd.DataFrame({\"x\" : simulated_statistics})\n",
    "    return simulated_statistics"
   ]
  },
  {
   "cell_type": "code",
   "execution_count": 88,
   "metadata": {},
   "outputs": [
    {
     "data": {
      "image/png": "[encoded data removed]",
      "text/plain": [
       "<Figure size 640x480 with 1 Axes>"
      ]
     },
     "metadata": {},
     "output_type": "display_data"
    }
   ],
   "source": [
    "samp_dist = sampling_distr_diff(df1 = pop_dance, df2 = non_pop_dance, var = \"Popularity\", n1 = 79, n2 = 395)\n",
    "samp_dist[\"x\"].hist()\n",
    "plt.xlabel('Possible Difference in Sample Popularity Means')\n",
    "plt.ylabel('Frequency')\n",
    "plt.title('Difference in Sample Popularity Means between Dance Pop and Non-Dance Pop')\n",
    "plt.show()"
   ]
  },
  {
   "cell_type": "code",
   "execution_count": 100,
   "metadata": {},
   "outputs": [
    {
     "name": "stdout",
     "output_type": "stream",
     "text": [
      "p-value is 0.6168\n"
     ]
    }
   ],
   "source": [
    "# Calculate p-value \n",
    "diff = mu_1 - mu_2\n",
    "pval = ((samp_dist[\"x\"] > diff) | (samp_dist[\"x\"] < -diff)).mean()\n",
    "\n",
    "print(\"p-value is {}\".format(pval))"
   ]
  },
  {
   "cell_type": "markdown",
   "metadata": {},
   "source": [
    "Conclusion: Using a 0.05 significance level, we do not have significant evidence to reject the null hypothesis, suggesting that there's no difference between mean of dance pop songs and non-dance pop songs."
   ]
  },
  {
   "cell_type": "markdown",
   "metadata": {},
   "source": [
    "### Some Questions to Answer: \n",
    "Our research questions are 1) whether there's a relationship between genre and song popularity and 2) does being in the dance-pop genre make a song more popular. From the side-by-side boxplots, we can see that some genres are indeed more popular than the others. However, from the hypothesis testing we performed above, we see that being a dance-pop song does not significantly have a popularity difference."
   ]
  },
  {
   "cell_type": "markdown",
   "metadata": {},
   "source": [
    "## 5. Conclusion"
   ]
  },
  {
   "cell_type": "markdown",
   "metadata": {},
   "source": [
    "### a. Summarization \n",
    "Looking back at the three research questions of this project, we first discovered that variables such as artist_followers, acousticness, liveness, loudness, tempo and valence all contribute to the popularity of a song by using a backward elimination algorithm. The actual regression equation is ```$\\hat{y}$ = 82.6694 + 1.115e-07 * Artist_Followers - 5.229 * Acousticness - 8.7637 * Liveness + 0.8333 * Loudness - 0.0426 * Tempo - 1.9385 * Valence.``` We also used this model make a simple prediction: a song with 100,0000 followers and 0.5 for all the other predictors would have an estimated popularity of $\\approx$75. \n",
    "\n",
    "Secondly, we explored that dance pop is the most popular genre of this dataset. And for the specific genre, we saw a linear relationship between the lod-odds of being pop dance and popularity, danceability, energy and loudess. The actual logistic equation is ```Log odds of a song being dance pop = -1.0837 + 0.0152 * Popularity - 1.0033 * Danceability + 0.3947 * Energy + 0.1928 * Loudness.``` \n",
    "\n",
    "Last but not least, we looked at the relationship between the song genre and popularity in the dataset. We also found that being in dance-pop genre does not have significant evidence improve popularity, by performing a hypothesis testing with mean difference between two populations.\n",
    "\n",
    "\n",
    "### b. Limitations\n",
    "One of the biggest limitations is how low the rsquared values are for the models. For instance, the rsquared value is only 0.06 for the linear regression model. As a result, it is difficult to make strong claims from the model before doing any further analysis. Moreover, since we are not experts in the music industry, it is sometimes hard for us to select the right variables as predictors. Choosing different variables with more knowledge in related field might result in better and more accurate models for this project. One challenge that took us a while to resolve was the missing value in the dataset. We had to convert all missing values into NaN before applying function like ```dropna()```. \n",
    "\n",
    "\n",
    "### c. Future work\n",
    "Before someone else were to conduct future work based on these analyses, they could entail more in-depth questions. For example, for the linear regression analysis, they could potentially build a model that better encapsulates the essense of a popular song. In addition, people could update the dataset with newer data, since it only contains the top 200 songs from 2020-2021 (we are near the end of 2023). In this way, they could compared whether there're any changes in these years."
   ]
  },
  {
   "cell_type": "code",
   "execution_count": null,
   "metadata": {},
   "outputs": [],
   "source": []
  }
 ],
 "metadata": {
  "kernelspec": {
   "display_name": "Python 3 (ipykernel)",
   "language": "python",
   "name": "python3"
  },
  "language_info": {
   "codemirror_mode": {
    "name": "ipython",
    "version": 3
   },
   "file_extension": ".py",
   "mimetype": "text/x-python",
   "name": "python",
   "nbconvert_exporter": "python",
   "pygments_lexer": "ipython3",
   "version": "3.9.13"
  }
 },
 "nbformat": 4,
 "nbformat_minor": 4
}
